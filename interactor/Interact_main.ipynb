{
 "cells": [
  {
   "cell_type": "code",
   "execution_count": 3,
   "metadata": {},
   "outputs": [
    {
     "name": "stderr",
     "output_type": "stream",
     "text": [
      "c:\\users\\danie\\appdata\\local\\programs\\python\\python36\\lib\\site-packages\\gym\\logger.py:30: UserWarning: \u001b[33mWARN: Box bound precision lowered by casting to float32\u001b[0m\n",
      "  warnings.warn(colorize('%s: %s'%('WARN', msg % args), 'yellow'))\n"
     ]
    }
   ],
   "source": [
    "import minerl\n",
    "import gym\n",
    "\n",
    "import sys\n",
    "sys.path.append(\"../functions\")\n",
    "\n",
    "from Utils import load_data, save_data\n",
    "from DQfDModel import build_model, load_model\n",
    "\n",
    "import numpy as np\n",
    "import random\n",
    "from ActionCombos import load_combos, get_all_action_combos, int_action_to_dict, convert_match_actions, match_batch_actions\n",
    "\n",
    "# from Buffer import add_transaction"
   ]
  },
  {
   "cell_type": "code",
   "execution_count": 4,
   "metadata": {},
   "outputs": [],
   "source": [
    "model_weights_path = \"../training/expert_model_1603572051_749999.h5\""
   ]
  },
  {
   "cell_type": "code",
   "execution_count": 5,
   "metadata": {},
   "outputs": [],
   "source": [
    "action_combos_treechop_path = \"../resources/action_combos_treechop.sav\""
   ]
  },
  {
   "cell_type": "code",
   "execution_count": 6,
   "metadata": {},
   "outputs": [],
   "source": [
    "unique_angles_treechop_path = \"../resources/unique_angles_treechop.sav\""
   ]
  },
  {
   "cell_type": "code",
   "execution_count": 7,
   "metadata": {},
   "outputs": [],
   "source": [
    "action_keys = ['attack',\n",
    " 'back',\n",
    " 'camera',\n",
    " 'forward',\n",
    " 'jump',\n",
    " 'left',\n",
    " 'right',\n",
    " 'sneak',\n",
    " 'sprint']"
   ]
  },
  {
   "cell_type": "code",
   "execution_count": 8,
   "metadata": {},
   "outputs": [],
   "source": [
    "n_action_navigate = 58368\n",
    "n_action_treechop = 35840"
   ]
  },
  {
   "cell_type": "code",
   "execution_count": 9,
   "metadata": {},
   "outputs": [],
   "source": [
    "model = load_model(n_action_treechop, model_weights_path)"
   ]
  },
  {
   "cell_type": "code",
   "execution_count": 10,
   "metadata": {},
   "outputs": [],
   "source": [
    "action_combos = load_data(action_combos_treechop_path)"
   ]
  },
  {
   "cell_type": "code",
   "execution_count": 11,
   "metadata": {},
   "outputs": [],
   "source": [
    "unique_angles_treechop = load_data(unique_angles_treechop_path)"
   ]
  },
  {
   "cell_type": "code",
   "execution_count": 10,
   "metadata": {},
   "outputs": [],
   "source": [
    "def add_transition(replay_buffer, curr_states, actions, rewards, next_steps, dones, curr_state, empty_deque=False, ns=10, ns_gamma=0.99,is_done=True):\n",
    "\t\tns_rew_sum = 0.\n",
    "\t\ttrans = {}\n",
    "\n",
    "\t\tif empty_deque:\n",
    "\t\t\twhile len(rewards) > 0:\n",
    "\t\t\t\tfor i in range(len(rewards)):\n",
    "\t\t\t\t\tns_rew_sum += rewards[i] * ns_gamma ** i\n",
    "\t\t\t\t\n",
    "\t\t\t\ttrans['sample'] = [curr_states.popleft(), actions.popleft(), rewards.pop(0),\n",
    "\t\t\t\t\t\t\t\t\t\t\t\tnext_steps.popleft(), is_done, ns_rew_sum, curr_state]\n",
    "\t\t\t\treplay_buffer.add_sample(trans)\n",
    "\t\telse:\n",
    "\t\t\tfor i in range(ns):\n",
    "\t\t\t\tns_rew_sum += rewards[i] * ns_gamma ** i\n",
    "\t\t\ttrans['sample'] =  [curr_states.popleft(), actions.popleft(), rewards.pop(0),\n",
    "\t\t\t\t\t\t\t\tnext_steps.popleft(), dones.popleft(), ns_rew_sum, curr_state]\n",
    "\t\t\treplay_buffer.add_sample(trans)"
   ]
  },
  {
   "cell_type": "code",
   "execution_count": 12,
   "metadata": {},
   "outputs": [],
   "source": [
    "def interact(model, curr_obs, action_combos, n_action, epsilon_start = 0.99):\n",
    "    empty_by_one = np.zeros((1, 1))\n",
    "    empty_exp_action_by_one = np.zeros((1, 2))\n",
    "    empty_action_len_by_one = np.zeros((1, n_action))\n",
    "    \n",
    "    epsilon = epsilon_start\n",
    "    \n",
    "    if random.random() <= epsilon:\n",
    "        action_command = env.action_space.sample()\n",
    "    else:\n",
    "        temp_curr_obs = np.array(curr_obs)\n",
    "        temp_curr_obs = temp_curr_obs.tolist()['pov'].reshape(1,temp_curr_obs.tolist()['pov'].shape[0], temp_curr_obs.tolist()['pov'].shape[1], temp_curr_obs.tolist()['pov'].shape[2])\n",
    "        q, _, _ = model.predict([temp_curr_obs, temp_curr_obs,empty_by_one, empty_exp_action_by_one,empty_action_len_by_one])\n",
    "        action_command = np.argmax(q)\n",
    "        \n",
    "    action_to_store = None\n",
    "    action_to_take = None\n",
    "   \n",
    "    if (isinstance(action_command, (int, np.integer))):\n",
    "        action_to_store = action_command\n",
    "\n",
    "        combo = action_combos[action_command]\n",
    "        action_to_take = int_action_to_dict(action_keys, action_combos[action_command])\n",
    "    else:\n",
    "        action_to_store = convert_match_actions(action_command, action_combos, unique_angles_treechop)\n",
    "        action_to_take = int_action_to_dict(action_keys, action_combos[action_to_store])\n",
    "\n",
    "    return action_to_take"
   ]
  },
  {
   "cell_type": "code",
   "execution_count": 13,
   "metadata": {},
   "outputs": [],
   "source": [
    "env = gym.make(\"MineRLTreechop-v0\")"
   ]
  },
  {
   "cell_type": "code",
   "execution_count": 13,
   "metadata": {
    "scrolled": true
   },
   "outputs": [],
   "source": [
    "env.make_interactive(port=6666, realtime=True)"
   ]
  },
  {
   "cell_type": "code",
   "execution_count": 12,
   "metadata": {},
   "outputs": [
    {
     "name": "stderr",
     "output_type": "stream",
     "text": [
      "C:\\Users\\danie\\AppData\\Local\\Programs\\Python\\Python36\\lib\\site-packages\\gym\\logger.py:30: UserWarning: \u001b[33mWARN: Box bound precision lowered by casting to float32\u001b[0m\n",
      "  warnings.warn(colorize('%s: %s'%('WARN', msg % args), 'yellow'))\n",
      "No existing interactor found on port 31415. Starting a new interactor.\n",
      "Traceback (most recent call last):\n",
      "  File \"C:\\Users\\danie\\AppData\\Local\\Programs\\Python\\Python36\\lib\\site-packages\\minerl\\interactor\\__main__.py\", line 40, in run_interactor\n",
      "    InstanceManager.add_existing_instance(interactor_port)\n",
      "  File \"C:\\Users\\danie\\AppData\\Local\\Programs\\Python\\Python36\\lib\\site-packages\\minerl\\env\\malmo.py\", line 244, in add_existing_instance\n",
      "    assert cls._is_port_taken(port), \"No Malmo mod utilizing the port specified.\"\n",
      "AssertionError: No Malmo mod utilizing the port specified.\n",
      "\n",
      "During handling of the above exception, another exception occurred:\n",
      "\n",
      "Traceback (most recent call last):\n",
      "  File \"C:\\Users\\danie\\AppData\\Local\\Programs\\Python\\Python36\\lib\\runpy.py\", line 193, in _run_module_as_main\n",
      "    \"__main__\", mod_spec)\n",
      "  File \"C:\\Users\\danie\\AppData\\Local\\Programs\\Python\\Python36\\lib\\runpy.py\", line 85, in _run_code\n",
      "    exec(code, run_globals)\n",
      "  File \"C:\\Users\\danie\\AppData\\Local\\Programs\\Python\\Python36\\lib\\site-packages\\minerl\\interactor\\__main__.py\", line 73, in <module>\n",
      "    run_interactor(ip=opts.ip, port=opts.port)\n",
      "  File \"C:\\Users\\danie\\AppData\\Local\\Programs\\Python\\Python36\\lib\\site-packages\\minerl\\interactor\\__main__.py\", line 46, in run_interactor\n",
      "    instance.launch(daemonize=True)\n",
      "  File \"C:\\Users\\danie\\AppData\\Local\\Programs\\Python\\Python36\\lib\\site-packages\\minerl\\env\\malmo.py\", line 469, in launch\n",
      "    shutil.copytree(os.path.join(InstanceManager.MINECRAFT_DIR), self.minecraft_dir)\n",
      "  File \"C:\\Users\\danie\\AppData\\Local\\Programs\\Python\\Python36\\lib\\shutil.py\", line 365, in copytree\n",
      "    raise Error(errors)\n",
      "shutil.Error: [('C:\\\\Users\\\\danie\\\\AppData\\\\Local\\\\Programs\\\\Python\\\\Python36\\\\lib\\\\site-packages\\\\minerl\\\\env\\\\Malmo\\\\Minecraft\\\\.gradle\\\\2.14\\\\taskArtifacts\\\\cache.properties.lock', 'C:\\\\Users\\\\danie\\\\AppData\\\\Local\\\\Temp\\\\tmpcp6qtmvg\\\\Minecraft\\\\.gradle\\\\2.14\\\\taskArtifacts\\\\cache.properties.lock', '[Errno 13] Permission denied')]\n"
     ]
    }
   ],
   "source": [
    "!python -m minerl.interactor 6666"
   ]
  },
  {
   "cell_type": "code",
   "execution_count": 2,
   "metadata": {},
   "outputs": [],
   "source": [
    "async def start_environment_interactive(environment, port):\n",
    "    env = await gym.make(environment)\n",
    "    \n",
    "    \n",
    "    return env"
   ]
  },
  {
   "cell_type": "code",
   "execution_count": 16,
   "metadata": {},
   "outputs": [],
   "source": [
    "def run_agent_interactive(env, action_combos, n_action):\n",
    "    curr_obs = env.reset()\n",
    "    done = False\n",
    "    prev_obs = []\n",
    "    episode = 1\n",
    "    while not done:\n",
    "        action = interact(model, curr_obs, action_combos, n_action)\n",
    "\n",
    "        curr_obs, reward, done, _ = env.step(action)\n",
    "        \n",
    "#         if episode > 10:\n",
    "#             add_transition(rep_buffer, nstep_state_deque, nstep_action_deque, nstep_rew_list, nstep_nexts_deque,\n",
    "#                            nstep_done_deque, curr_obs, False, nsteps, nstep_gamma)\n",
    "            \n",
    "        episode = episode + 1\n",
    "        if done: print(done)"
   ]
  },
  {
   "cell_type": "code",
   "execution_count": 17,
   "metadata": {},
   "outputs": [
    {
     "name": "stdout",
     "output_type": "stream",
     "text": [
      "True\n"
     ]
    }
   ],
   "source": [
    "run_agent_interactive(env, action_combos, n_action_treechop)"
   ]
  },
  {
   "cell_type": "code",
   "execution_count": null,
   "metadata": {
    "scrolled": true
   },
   "outputs": [],
   "source": [
    "!python -m minerl.interactor 6666"
   ]
  },
  {
   "cell_type": "code",
   "execution_count": 1,
   "metadata": {},
   "outputs": [
    {
     "name": "stdout",
     "output_type": "stream",
     "text": [
      "Python 3.7.9\n"
     ]
    }
   ],
   "source": [
    "!python --version"
   ]
  },
  {
   "cell_type": "code",
   "execution_count": 15,
   "metadata": {},
   "outputs": [],
   "source": [
    "import collections"
   ]
  },
  {
   "cell_type": "code",
   "execution_count": 21,
   "metadata": {},
   "outputs": [],
   "source": [
    "d1 = collections.OrderedDict()"
   ]
  },
  {
   "cell_type": "code",
   "execution_count": null,
   "metadata": {},
   "outputs": [],
   "source": [
    "[('attack', array(0)), ('back', array(1)), ('camera', array([-124.32714  ,    7.5763187], dtype=float32)),\n",
    " ('forward', array(0)), ('jump', array(1)), \n",
    " ('left', array(0)), ('right', array(1)), ('sneak', array(1)), ('sprint', array(0))]"
   ]
  },
  {
   "cell_type": "code",
   "execution_count": 22,
   "metadata": {},
   "outputs": [],
   "source": [
    "d1['attack'] = 0\n",
    "d1['back'] = 0\n",
    "d1['camera'] = [-124.32714  ,    7.5763187]\n",
    "d1['forward'] = 0\n",
    "d1['jump'] = 0\n",
    "d1['left'] = 0\n",
    "d1['right'] = 0\n",
    "d1['sneak'] = 1\n",
    "d1['sprint'] = 0"
   ]
  },
  {
   "cell_type": "code",
   "execution_count": 23,
   "metadata": {},
   "outputs": [
    {
     "data": {
      "text/plain": [
       "OrderedDict([('attack', 0),\n",
       "             ('back', 0),\n",
       "             ('camera', [-124.32714, 7.5763187]),\n",
       "             ('forward', 0),\n",
       "             ('jump', 0),\n",
       "             ('left', 0),\n",
       "             ('right', 0),\n",
       "             ('sneak', 1),\n",
       "             ('sprint', 0)])"
      ]
     },
     "execution_count": 23,
     "metadata": {},
     "output_type": "execute_result"
    }
   ],
   "source": [
    "d1"
   ]
  },
  {
   "cell_type": "code",
   "execution_count": 24,
   "metadata": {},
   "outputs": [],
   "source": [
    "camera = d1['camera']"
   ]
  },
  {
   "cell_type": "code",
   "execution_count": 27,
   "metadata": {},
   "outputs": [],
   "source": [
    "d1['camera'] = [0.0,0.0]"
   ]
  },
  {
   "cell_type": "code",
   "execution_count": 28,
   "metadata": {},
   "outputs": [
    {
     "data": {
      "text/plain": [
       "OrderedDict([('attack', 0),\n",
       "             ('back', 0),\n",
       "             ('camera', [0.0, 0.0]),\n",
       "             ('forward', 0),\n",
       "             ('jump', 0),\n",
       "             ('left', 0),\n",
       "             ('right', 0),\n",
       "             ('sneak', 1),\n",
       "             ('sprint', 0)])"
      ]
     },
     "execution_count": 28,
     "metadata": {},
     "output_type": "execute_result"
    }
   ],
   "source": [
    "d1"
   ]
  },
  {
   "cell_type": "code",
   "execution_count": null,
   "metadata": {},
   "outputs": [],
   "source": []
  }
 ],
 "metadata": {
  "kernelspec": {
   "display_name": "Python 3",
   "language": "python",
   "name": "python3"
  },
  "language_info": {
   "codemirror_mode": {
    "name": "ipython",
    "version": 3
   },
   "file_extension": ".py",
   "mimetype": "text/x-python",
   "name": "python",
   "nbconvert_exporter": "python",
   "pygments_lexer": "ipython3",
   "version": "3.6.8"
  }
 },
 "nbformat": 4,
 "nbformat_minor": 4
}
