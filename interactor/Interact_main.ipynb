{
 "cells": [
  {
   "cell_type": "code",
   "execution_count": 1,
   "metadata": {},
   "outputs": [
    {
     "name": "stderr",
     "output_type": "stream",
     "text": [
      "c:\\users\\danie\\appdata\\local\\programs\\python\\python36\\lib\\site-packages\\gym\\logger.py:30: UserWarning: \u001b[33mWARN: Box bound precision lowered by casting to float32\u001b[0m\n",
      "  warnings.warn(colorize('%s: %s'%('WARN', msg % args), 'yellow'))\n"
     ]
    }
   ],
   "source": [
    "import minerl\n",
    "import gym"
   ]
  },
  {
   "cell_type": "code",
   "execution_count": 2,
   "metadata": {},
   "outputs": [],
   "source": [
    "env = gym.make(\"MineRLNavigate-v0\")"
   ]
  },
  {
   "cell_type": "code",
   "execution_count": 4,
   "metadata": {},
   "outputs": [],
   "source": [
    "env.make_interactive(port=6666, realtime=True)"
   ]
  },
  {
   "cell_type": "code",
   "execution_count": 2,
   "metadata": {},
   "outputs": [],
   "source": [
    "def start_environemnt_interactive(environment, port):\n",
    "    env = gym.make(environment)\n",
    "    env.make_interative(port=port, realtime=True)\n",
    "    \n",
    "    return env"
   ]
  },
  {
   "cell_type": "code",
   "execution_count": null,
   "metadata": {},
   "outputs": [],
   "source": [
    "def run_agent_interactive(env):\n",
    "    \n",
    "    done = False\n",
    "    \n",
    "    while not done:\n",
    "        action = get_action(trained_model)\n",
    "        #number action to dictionary\n",
    "        obs, reward, done, _ = env.step(action)"
   ]
  },
  {
   "cell_type": "code",
   "execution_count": null,
   "metadata": {},
   "outputs": [],
   "source": [
    "def get_action(trained_model):\n",
    "    q, _, _ = trained_model.predict([temp_curr_obs, temp_curr_obs,empty_by_one, empty_exp_action_by_one,empty_action_len_by_one])"
   ]
  },
  {
   "cell_type": "code",
   "execution_count": 5,
   "metadata": {},
   "outputs": [
    {
     "name": "stderr",
     "output_type": "stream",
     "text": [
      "MineRL agent is public, connect on port 6666 with Minecraft 1.11\n"
     ]
    },
    {
     "data": {
      "text/plain": [
       "OrderedDict([('compassAngle', array(5.5236816)),\n",
       "             ('inventory', OrderedDict([('dirt', array(0))])),\n",
       "             ('pov',\n",
       "              array([[[ 94, 118, 176],\n",
       "                      [ 95, 118, 177],\n",
       "                      [ 95, 119, 178],\n",
       "                      ...,\n",
       "                      [ 92, 114, 170],\n",
       "                      [ 91, 114, 169],\n",
       "                      [ 91, 113, 168]],\n",
       "              \n",
       "                     [[ 94, 117, 175],\n",
       "                      [ 94, 118, 176],\n",
       "                      [ 95, 118, 177],\n",
       "                      ...,\n",
       "                      [ 91, 113, 168],\n",
       "                      [ 91, 113, 167],\n",
       "                      [ 90, 112, 166]],\n",
       "              \n",
       "                     [[ 93, 116, 173],\n",
       "                      [ 94, 117, 174],\n",
       "                      [ 94, 117, 175],\n",
       "                      ...,\n",
       "                      [ 90, 112, 166],\n",
       "                      [ 90, 112, 165],\n",
       "                      [ 90, 111, 164]],\n",
       "              \n",
       "                     ...,\n",
       "              \n",
       "                     [[ 62,  83,  63],\n",
       "                      [ 64,  86,  65],\n",
       "                      [ 65,  86,  65],\n",
       "                      ...,\n",
       "                      [ 63,  84,  64],\n",
       "                      [ 63,  84,  64],\n",
       "                      [ 81, 108,  82]],\n",
       "              \n",
       "                     [[ 61,  82,  62],\n",
       "                      [ 64,  85,  64],\n",
       "                      [ 64,  85,  65],\n",
       "                      ...,\n",
       "                      [ 63,  84,  64],\n",
       "                      [ 63,  84,  64],\n",
       "                      [ 83, 110,  84]],\n",
       "              \n",
       "                     [[ 51,  68,  51],\n",
       "                      [ 61,  41,  28],\n",
       "                      [ 61,  42,  28],\n",
       "                      ...,\n",
       "                      [ 63,  84,  64],\n",
       "                      [ 63,  84,  64],\n",
       "                      [ 79, 106,  80]]], dtype=uint8))])"
      ]
     },
     "execution_count": 5,
     "metadata": {},
     "output_type": "execute_result"
    }
   ],
   "source": [
    "env.reset()"
   ]
  },
  {
   "cell_type": "code",
   "execution_count": null,
   "metadata": {},
   "outputs": [],
   "source": [
    "while not done:\n",
    "    action = env.action_space.sample()\n",
    "    obs, reward, done, _ = env.step(action)"
   ]
  },
  {
   "cell_type": "code",
   "execution_count": 6,
   "metadata": {},
   "outputs": [
    {
     "name": "stderr",
     "output_type": "stream",
     "text": [
      "C:\\Users\\danie\\AppData\\Local\\Programs\\Python\\Python36\\lib\\site-packages\\gym\\logger.py:30: UserWarning: \u001b[33mWARN: Box bound precision lowered by casting to float32\u001b[0m\n",
      "  warnings.warn(colorize('%s: %s'%('WARN', msg % args), 'yellow'))\n",
      "No existing interactor found on port 31415. Starting a new interactor.\n",
      "Traceback (most recent call last):\n",
      "  File \"C:\\Users\\danie\\AppData\\Local\\Programs\\Python\\Python36\\lib\\site-packages\\minerl\\interactor\\__main__.py\", line 40, in run_interactor\n",
      "    InstanceManager.add_existing_instance(interactor_port)\n",
      "  File \"C:\\Users\\danie\\AppData\\Local\\Programs\\Python\\Python36\\lib\\site-packages\\minerl\\env\\malmo.py\", line 244, in add_existing_instance\n",
      "    assert cls._is_port_taken(port), \"No Malmo mod utilizing the port specified.\"\n",
      "AssertionError: No Malmo mod utilizing the port specified.\n",
      "\n",
      "During handling of the above exception, another exception occurred:\n",
      "\n",
      "Traceback (most recent call last):\n",
      "  File \"C:\\Users\\danie\\AppData\\Local\\Programs\\Python\\Python36\\lib\\runpy.py\", line 193, in _run_module_as_main\n",
      "    \"__main__\", mod_spec)\n",
      "  File \"C:\\Users\\danie\\AppData\\Local\\Programs\\Python\\Python36\\lib\\runpy.py\", line 85, in _run_code\n",
      "    exec(code, run_globals)\n",
      "  File \"C:\\Users\\danie\\AppData\\Local\\Programs\\Python\\Python36\\lib\\site-packages\\minerl\\interactor\\__main__.py\", line 73, in <module>\n",
      "    run_interactor(ip=opts.ip, port=opts.port)\n",
      "  File \"C:\\Users\\danie\\AppData\\Local\\Programs\\Python\\Python36\\lib\\site-packages\\minerl\\interactor\\__main__.py\", line 46, in run_interactor\n",
      "    instance.launch(daemonize=True)\n",
      "  File \"C:\\Users\\danie\\AppData\\Local\\Programs\\Python\\Python36\\lib\\site-packages\\minerl\\env\\malmo.py\", line 469, in launch\n",
      "    shutil.copytree(os.path.join(InstanceManager.MINECRAFT_DIR), self.minecraft_dir)\n",
      "  File \"C:\\Users\\danie\\AppData\\Local\\Programs\\Python\\Python36\\lib\\shutil.py\", line 365, in copytree\n",
      "    raise Error(errors)\n",
      "shutil.Error: [('C:\\\\Users\\\\danie\\\\AppData\\\\Local\\\\Programs\\\\Python\\\\Python36\\\\lib\\\\site-packages\\\\minerl\\\\env\\\\Malmo\\\\Minecraft\\\\.gradle\\\\2.14\\\\taskArtifacts\\\\cache.properties.lock', 'C:\\\\Users\\\\danie\\\\AppData\\\\Local\\\\Temp\\\\tmps23imljz\\\\Minecraft\\\\.gradle\\\\2.14\\\\taskArtifacts\\\\cache.properties.lock', '[Errno 13] Permission denied')]\n"
     ]
    }
   ],
   "source": [
    "!python -m minerl.interactor 6666"
   ]
  },
  {
   "cell_type": "code",
   "execution_count": null,
   "metadata": {},
   "outputs": [],
   "source": []
  }
 ],
 "metadata": {
  "kernelspec": {
   "display_name": "Python 3",
   "language": "python",
   "name": "python3"
  },
  "language_info": {
   "codemirror_mode": {
    "name": "ipython",
    "version": 3
   },
   "file_extension": ".py",
   "mimetype": "text/x-python",
   "name": "python",
   "nbconvert_exporter": "python",
   "pygments_lexer": "ipython3",
   "version": "3.6.8"
  }
 },
 "nbformat": 4,
 "nbformat_minor": 4
}
