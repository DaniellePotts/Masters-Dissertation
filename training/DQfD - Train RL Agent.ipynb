{
 "cells": [
  {
   "cell_type": "markdown",
   "metadata": {},
   "source": [
    "# Train RL Agent"
   ]
  },
  {
   "cell_type": "markdown",
   "metadata": {},
   "source": [
    "Trains both the network and the agent using the actual Minecraft environment"
   ]
  },
  {
   "cell_type": "code",
   "execution_count": null,
   "metadata": {},
   "outputs": [],
   "source": [
    "from keras.models import Model\n",
    "from keras.layers import Dense, Dropout, Flatten, Input, Lambda, Conv2D\n",
    "from keras.optimizers import SGD, Adam\n",
    "from keras import initializers\n",
    "from keras import regularizers\n",
    "import keras.backend as K\n",
    "\n",
    "from anyrl.rollouts import replay\n",
    "\n",
    "import time\n",
    "import numpy as np\n",
    "\n",
    "import minerl\n",
    "import gym\n",
    "\n",
    "import tensorflow as tf\n",
    "import pickle\n",
    "import collections\n",
    "from collections import deque\n",
    "\n",
    "import random\n",
    "\n",
    "import sys\n",
    "sys.path.append(\"../functions\")\n",
    "\n",
    "from ActionCombos import load_combos, get_all_action_combos, int_action_to_dict, convert_match_actions, match_batch_actions\n",
    "from Utils import load_data, save_data\n",
    "from DQfDModel import build_model, train_network"
   ]
  },
  {
   "cell_type": "code",
   "execution_count": null,
   "metadata": {},
   "outputs": [],
   "source": [
    "resources_folder = 'new-resources'\n",
    "models_path = 'app/models'\n",
    "environment = 'Treechop'"
   ]
  },
  {
   "cell_type": "markdown",
   "metadata": {},
   "source": [
    "# Training"
   ]
  },
  {
   "cell_type": "code",
   "execution_count": null,
   "metadata": {},
   "outputs": [],
   "source": [
    "replay_file_path = \"../{0}/buffer_{1}_post_train.sav\".format(resources_folder, environment)\n",
    "model_path = '../{0}/MineRL{1}-v0_model.h5'.format(models_path, environment)\n",
    "unique_angles_file = '../{0}/unique_angles_{1}.sav'.format(resources_folder, environment.lower())\n",
    "combos_file = '../{0}/action_combos_{1}.sav'.format(resources_folder, environment.lower())\n",
    "\n",
    "action_combos = load_combos(combos_file)\n",
    "unique_angles = load_data(unique_angles_file)\n",
    "\n",
    "minerl_environment = 'MineRL{0}-v0'.format(environment)\n",
    "n_action = len(action_combos)\n",
    "\n",
    "action_keys = ['attack',\n",
    " 'back',\n",
    "  'camera',\n",
    " 'forward',            \n",
    " 'jump',\n",
    " 'left',\n",
    " 'right',\n",
    " 'sneak',\n",
    " 'sprint']"
   ]
  },
  {
   "cell_type": "code",
   "execution_count": null,
   "metadata": {
    "scrolled": true
   },
   "outputs": [],
   "source": [
    "env = gym.make(minerl_environment)"
   ]
  },
  {
   "cell_type": "code",
   "execution_count": null,
   "metadata": {},
   "outputs": [],
   "source": [
    "expert_buffer = replay.PrioritizedReplayBuffer(500000, alpha=0.4, beta=0.6, epsilon=0.001)\n",
    "expert_buffer = pickle.load(open(replay_file_path, 'rb'))\n",
    "replay_buffer = replay.PrioritizedReplayBuffer(500000, alpha=0.4, beta=0.6, epsilon=0.001)"
   ]
  },
  {
   "cell_type": "code",
   "execution_count": null,
   "metadata": {},
   "outputs": [],
   "source": [
    "tgt_model = build_model(n_action)\n",
    "tgt_model.load_weights(model_path)"
   ]
  },
  {
   "cell_type": "code",
   "execution_count": null,
   "metadata": {},
   "outputs": [],
   "source": [
    "init_model = build_model(n_action)\n",
    "init_model.load_weights(model_path)"
   ]
  },
  {
   "cell_type": "code",
   "execution_count": null,
   "metadata": {
    "scrolled": true
   },
   "outputs": [],
   "source": [
    "train_network(env, init_model, tgt_model,expert_buffer,replay_buffer, n_action, action_combos, unique_angles, action_keys, max_timesteps=1000000)#,min_buffer_size=50"
   ]
  },
  {
   "cell_type": "code",
   "execution_count": null,
   "metadata": {},
   "outputs": [],
   "source": []
  }
 ],
 "metadata": {
  "kernelspec": {
   "display_name": "Python 3",
   "language": "python",
   "name": "python3"
  },
  "language_info": {
   "codemirror_mode": {
    "name": "ipython",
    "version": 3
   },
   "file_extension": ".py",
   "mimetype": "text/x-python",
   "name": "python",
   "nbconvert_exporter": "python",
   "pygments_lexer": "ipython3",
   "version": "3.6.8"
  }
 },
 "nbformat": 4,
 "nbformat_minor": 4
}
