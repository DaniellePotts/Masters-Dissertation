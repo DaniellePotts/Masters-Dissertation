{
 "cells": [
  {
   "cell_type": "markdown",
   "metadata": {
    "colab": {
     "base_uri": "https://localhost:8080/",
     "height": 1000
    },
    "colab_type": "code",
    "executionInfo": {
     "elapsed": 34537,
     "status": "ok",
     "timestamp": 1600516448370,
     "user": {
      "displayName": "Danielle Potts",
      "photoUrl": "https://lh3.googleusercontent.com/a-/AOh14GiJe95yMHxNYuiSqXp1RFQ7Cqxra0MCOP3Ds2DRkDE=s64",
      "userId": "09360983468843724957"
     },
     "user_tz": -60
    },
    "id": "pLY-oUwpJlX6",
    "outputId": "d1bc9f8c-c408-4513-a5cc-2320782d6174"
   },
   "source": [
    "# Populate Replay Buffer"
   ]
  },
  {
   "cell_type": "code",
   "execution_count": null,
   "metadata": {},
   "outputs": [],
   "source": [
    "# !pip install minerl anyrl"
   ]
  },
  {
   "cell_type": "code",
   "execution_count": null,
   "metadata": {
    "colab": {
     "base_uri": "https://localhost:8080/",
     "height": 34
    },
    "colab_type": "code",
    "executionInfo": {
     "elapsed": 40557,
     "status": "ok",
     "timestamp": 1600517216747,
     "user": {
      "displayName": "Danielle Potts",
      "photoUrl": "https://lh3.googleusercontent.com/a-/AOh14GiJe95yMHxNYuiSqXp1RFQ7Cqxra0MCOP3Ds2DRkDE=s64",
      "userId": "09360983468843724957"
     },
     "user_tz": -60
    },
    "id": "It4Qf_ZYBKsp",
    "outputId": "2b08d904-5c3d-43b4-f077-7f5f57887fb6"
   },
   "outputs": [],
   "source": [
    "# from google.colab import drive\n",
    "# drive.mount('/content/drive')"
   ]
  },
  {
   "cell_type": "code",
   "execution_count": 1,
   "metadata": {
    "colab": {},
    "colab_type": "code",
    "executionInfo": {
     "elapsed": 797,
     "status": "ok",
     "timestamp": 1600521435614,
     "user": {
      "displayName": "Danielle Potts",
      "photoUrl": "https://lh3.googleusercontent.com/a-/AOh14GiJe95yMHxNYuiSqXp1RFQ7Cqxra0MCOP3Ds2DRkDE=s64",
      "userId": "09360983468843724957"
     },
     "user_tz": -60
    },
    "id": "ef3G1yFfKEK3"
   },
   "outputs": [],
   "source": [
    "import json\n",
    "import gym\n",
    "\n",
    "from collections import deque\n",
    "\n",
    "import numpy as np\n",
    "\n",
    "from anyrl.rollouts import replay\n",
    "\n",
    "import pickle"
   ]
  },
  {
   "cell_type": "code",
   "execution_count": 2,
   "metadata": {},
   "outputs": [
    {
     "ename": "TabError",
     "evalue": "inconsistent use of tabs and spaces in indentation (Buffer.py, line 44)",
     "output_type": "error",
     "traceback": [
      "Traceback \u001b[1;36m(most recent call last)\u001b[0m:\n",
      "  File \u001b[0;32m\"c:\\users\\danie\\appdata\\local\\programs\\python\\python36\\lib\\site-packages\\IPython\\core\\interactiveshell.py\"\u001b[0m, line \u001b[0;32m3343\u001b[0m, in \u001b[0;35mrun_code\u001b[0m\n    exec(code_obj, self.user_global_ns, self.user_ns)\n",
      "\u001b[1;36m  File \u001b[1;32m\"<ipython-input-2-cb0980c8bf05>\"\u001b[1;36m, line \u001b[1;32m5\u001b[1;36m, in \u001b[1;35m<module>\u001b[1;36m\u001b[0m\n\u001b[1;33m    from Buffer import populate_buffer, add_transition\u001b[0m\n",
      "\u001b[1;36m  File \u001b[1;32m\"../functions\\Buffer.py\"\u001b[1;36m, line \u001b[1;32m44\u001b[0m\n\u001b[1;33m    print(_a)\u001b[0m\n\u001b[1;37m             ^\u001b[0m\n\u001b[1;31mTabError\u001b[0m\u001b[1;31m:\u001b[0m inconsistent use of tabs and spaces in indentation\n"
     ]
    }
   ],
   "source": [
    "import sys\n",
    "sys.path.append(\"../functions\")\n",
    "\n",
    "from Utils import save_data, load_data\n",
    "from Buffer import populate_buffer, add_transition\n",
    "from DataHelper import parse_load_data"
   ]
  },
  {
   "cell_type": "code",
   "execution_count": null,
   "metadata": {
    "colab": {},
    "colab_type": "code",
    "executionInfo": {
     "elapsed": 1127,
     "status": "ok",
     "timestamp": 1600521438960,
     "user": {
      "displayName": "Danielle Potts",
      "photoUrl": "https://lh3.googleusercontent.com/a-/AOh14GiJe95yMHxNYuiSqXp1RFQ7Cqxra0MCOP3Ds2DRkDE=s64",
      "userId": "09360983468843724957"
     },
     "user_tz": -60
    },
    "id": "5hrDFhtCfjqt"
   },
   "outputs": [],
   "source": [
    "replay_buffer = replay.PrioritizedReplayBuffer(500000, alpha=0.4, beta=0.6, epsilon=0.001)"
   ]
  },
  {
   "cell_type": "code",
   "execution_count": 3,
   "metadata": {},
   "outputs": [],
   "source": [
    "environment = 'Treechop'\n",
    "folder = 'new-resources'"
   ]
  },
  {
   "cell_type": "code",
   "execution_count": 4,
   "metadata": {},
   "outputs": [],
   "source": [
    "# file_path = \"/content/drive/My Drive/minerl-resources/datasets/parsed_data_treechop.sav\"\n",
    "# combos_path = \"/content/drive/My Drive/minerl-resources/combos.sav\"\n",
    "# unique_places_path = \"/content/drive/My Drive/minerl-resources/unique_placements.sav\"\n",
    "# unique_actions_path = \"/content/drive/My Drive/minerl-resources/unique_actions_treechop.sav\"\n",
    "\n",
    "file_path = \"../{0}/parsed_data.sav\".format(folder)\n",
    "combos_path = \"../{0}/action_combos_{1}.sav\".format(folder, environment.lower())\n",
    "unique_places_path = \"../{0}/unique_placements.sav\".format(folder)\n",
    "unique_actions_path = \"../{0}/unique_actions_{1}.sav\".format(folder, environment.lower())"
   ]
  },
  {
   "cell_type": "code",
   "execution_count": 5,
   "metadata": {
    "colab": {},
    "colab_type": "code",
    "executionInfo": {
     "elapsed": 2473,
     "status": "ok",
     "timestamp": 1600517356832,
     "user": {
      "displayName": "Danielle Potts",
      "photoUrl": "https://lh3.googleusercontent.com/a-/AOh14GiJe95yMHxNYuiSqXp1RFQ7Cqxra0MCOP3Ds2DRkDE=s64",
      "userId": "09360983468843724957"
     },
     "user_tz": -60
    },
    "id": "6zKaA5hilWw6"
   },
   "outputs": [],
   "source": [
    "combos = load_data(combos_path)\n",
    "unique_actions = load_data(unique_actions_path)\n",
    "unique_places = load_data(unique_places_path)\n",
    "parsed_data = load_data(file_path)"
   ]
  },
  {
   "cell_type": "code",
   "execution_count": null,
   "metadata": {},
   "outputs": [],
   "source": []
  },
  {
   "cell_type": "code",
   "execution_count": null,
   "metadata": {},
   "outputs": [],
   "source": []
  },
  {
   "cell_type": "code",
   "execution_count": null,
   "metadata": {},
   "outputs": [],
   "source": [
    "match_actions(action, combos)"
   ]
  },
  {
   "cell_type": "code",
   "execution_count": 8,
   "metadata": {},
   "outputs": [],
   "source": [
    "def match_actions(action, combos):\n",
    "  return [i for i in range(0, len(combos)) if list(combos[i]) == action][0]"
   ]
  },
  {
   "cell_type": "code",
   "execution_count": 7,
   "metadata": {},
   "outputs": [],
   "source": [
    "a = [0, 0, [-0.30767011642456055, -5.538063049316406], 1, 1, 0, 0, 0, 1]"
   ]
  },
  {
   "cell_type": "code",
   "execution_count": 15,
   "metadata": {
    "colab": {
     "base_uri": "https://localhost:8080/",
     "height": 1000
    },
    "colab_type": "code",
    "executionInfo": {
     "elapsed": 1562,
     "status": "ok",
     "timestamp": 1600521474633,
     "user": {
      "displayName": "Danielle Potts",
      "photoUrl": "https://lh3.googleusercontent.com/a-/AOh14GiJe95yMHxNYuiSqXp1RFQ7Cqxra0MCOP3Ds2DRkDE=s64",
      "userId": "09360983468843724957"
     },
     "user_tz": -60
    },
    "id": "m3omjF9CBJoe",
    "outputId": "cf6ddfe4-f155-4148-ad43-70e529b53556"
   },
   "outputs": [
    {
     "name": "stdout",
     "output_type": "stream",
     "text": [
      "Saved processed data!\n",
      "Populating buffer...\n",
      "[0, 0, [-0.30767011642456055, -5.538063049316406], 1, 1, 0, 0, 0, 1]\n"
     ]
    },
    {
     "ename": "IndexError",
     "evalue": "list index out of range",
     "output_type": "error",
     "traceback": [
      "\u001b[1;31m---------------------------------------------------------------------------\u001b[0m",
      "\u001b[1;31mIndexError\u001b[0m                                Traceback (most recent call last)",
      "\u001b[1;32m<ipython-input-15-f0f70d9eee65>\u001b[0m in \u001b[0;36m<module>\u001b[1;34m\u001b[0m\n\u001b[1;32m----> 1\u001b[1;33m \u001b[0mreplay_buffer\u001b[0m \u001b[1;33m=\u001b[0m \u001b[0mpopulate_buffer\u001b[0m\u001b[1;33m(\u001b[0m\u001b[0mparsed_data\u001b[0m\u001b[1;33m,\u001b[0m \u001b[0mreplay_buffer\u001b[0m\u001b[1;33m,\u001b[0m \u001b[0mcombos\u001b[0m\u001b[1;33m,\u001b[0m \u001b[0menvironment\u001b[0m\u001b[1;33m)\u001b[0m\u001b[1;33m\u001b[0m\u001b[1;33m\u001b[0m\u001b[0m\n\u001b[0m",
      "\u001b[1;32mD:\\University\\Modules\\Dissertation\\Practical\\Project\\Masters-Dissertation\\functions\\Buffer.py\u001b[0m in \u001b[0;36mpopulate_buffer\u001b[1;34m(data, replay_buffer, action_combos, environment)\u001b[0m\n\u001b[0;32m     42\u001b[0m     \u001b[0mreward\u001b[0m \u001b[1;33m=\u001b[0m \u001b[0mstates\u001b[0m\u001b[1;33m[\u001b[0m\u001b[0mi\u001b[0m\u001b[1;33m]\u001b[0m\u001b[1;33m[\u001b[0m\u001b[1;34m'reward'\u001b[0m\u001b[1;33m]\u001b[0m\u001b[1;33m\u001b[0m\u001b[1;33m\u001b[0m\u001b[0m\n\u001b[0;32m     43\u001b[0m     \u001b[0m_a\u001b[0m \u001b[1;33m=\u001b[0m \u001b[0mparse_actions\u001b[0m\u001b[1;33m(\u001b[0m\u001b[0mstates\u001b[0m\u001b[1;33m[\u001b[0m\u001b[0mi\u001b[0m\u001b[1;33m]\u001b[0m\u001b[1;33m[\u001b[0m\u001b[1;34m'action'\u001b[0m\u001b[1;33m]\u001b[0m\u001b[1;33m)\u001b[0m\u001b[1;33m\u001b[0m\u001b[1;33m\u001b[0m\u001b[0m\n\u001b[1;32m---> 44\u001b[1;33m     \u001b[0m_a\u001b[0m \u001b[1;33m=\u001b[0m \u001b[0mmatch_actions\u001b[0m\u001b[1;33m(\u001b[0m\u001b[0m_a\u001b[0m\u001b[1;33m,\u001b[0m \u001b[0maction_combos\u001b[0m\u001b[1;33m)\u001b[0m\u001b[1;33m\u001b[0m\u001b[1;33m\u001b[0m\u001b[0m\n\u001b[0m\u001b[0;32m     45\u001b[0m     \u001b[0mdone\u001b[0m \u001b[1;33m=\u001b[0m \u001b[0mparse_done\u001b[0m\u001b[1;33m(\u001b[0m\u001b[0mstates\u001b[0m\u001b[1;33m[\u001b[0m\u001b[0mi\u001b[0m\u001b[1;33m]\u001b[0m\u001b[1;33m[\u001b[0m\u001b[1;34m'done'\u001b[0m\u001b[1;33m]\u001b[0m\u001b[1;33m)\u001b[0m\u001b[1;33m\u001b[0m\u001b[1;33m\u001b[0m\u001b[0m\n\u001b[0;32m     46\u001b[0m \u001b[1;33m\u001b[0m\u001b[0m\n",
      "\u001b[1;32mD:\\University\\Modules\\Dissertation\\Practical\\Project\\Masters-Dissertation\\functions\\ActionCombos.py\u001b[0m in \u001b[0;36mmatch_actions\u001b[1;34m(action, combos)\u001b[0m\n\u001b[0;32m     63\u001b[0m \u001b[1;32mdef\u001b[0m \u001b[0mmatch_actions\u001b[0m\u001b[1;33m(\u001b[0m\u001b[0maction\u001b[0m\u001b[1;33m,\u001b[0m \u001b[0mcombos\u001b[0m\u001b[1;33m)\u001b[0m\u001b[1;33m:\u001b[0m\u001b[1;33m\u001b[0m\u001b[1;33m\u001b[0m\u001b[0m\n\u001b[0;32m     64\u001b[0m   \u001b[1;32mreturn\u001b[0m \u001b[1;33m[\u001b[0m\u001b[0mi\u001b[0m \u001b[1;32mfor\u001b[0m \u001b[0mi\u001b[0m \u001b[1;32min\u001b[0m \u001b[0mrange\u001b[0m\u001b[1;33m(\u001b[0m\u001b[1;36m0\u001b[0m\u001b[1;33m,\u001b[0m \u001b[0mlen\u001b[0m\u001b[1;33m(\u001b[0m\u001b[0mcombos\u001b[0m\u001b[1;33m)\u001b[0m\u001b[1;33m)\u001b[0m \u001b[1;32mif\u001b[0m \u001b[0mlist\u001b[0m\u001b[1;33m(\u001b[0m\u001b[0mcombos\u001b[0m\u001b[1;33m[\u001b[0m\u001b[0mi\u001b[0m\u001b[1;33m]\u001b[0m\u001b[1;33m)\u001b[0m \u001b[1;33m==\u001b[0m \u001b[0maction\u001b[0m\u001b[1;33m]\u001b[0m\u001b[1;33m[\u001b[0m\u001b[1;36m0\u001b[0m\u001b[1;33m]\u001b[0m\u001b[1;33m\u001b[0m\u001b[1;33m\u001b[0m\u001b[0m\n\u001b[1;32m---> 65\u001b[1;33m \u001b[1;33m\u001b[0m\u001b[0m\n\u001b[0m\u001b[0;32m     66\u001b[0m \u001b[1;32mdef\u001b[0m \u001b[0mint_action_to_dict\u001b[0m\u001b[1;33m(\u001b[0m\u001b[0maction_keys\u001b[0m\u001b[1;33m,\u001b[0m \u001b[0maction_ints\u001b[0m\u001b[1;33m)\u001b[0m\u001b[1;33m:\u001b[0m\u001b[1;33m\u001b[0m\u001b[1;33m\u001b[0m\u001b[0m\n\u001b[0;32m     67\u001b[0m     \u001b[0mactions\u001b[0m \u001b[1;33m=\u001b[0m \u001b[1;33m{\u001b[0m\u001b[1;33m}\u001b[0m\u001b[1;33m\u001b[0m\u001b[1;33m\u001b[0m\u001b[0m\n",
      "\u001b[1;31mIndexError\u001b[0m: list index out of range"
     ]
    }
   ],
   "source": [
    "replay_buffer = populate_buffer(parsed_data, replay_buffer, combos, environment)"
   ]
  },
  {
   "cell_type": "code",
   "execution_count": null,
   "metadata": {
    "colab": {},
    "colab_type": "code",
    "executionInfo": {
     "elapsed": 797,
     "status": "ok",
     "timestamp": 1600521504030,
     "user": {
      "displayName": "Danielle Potts",
      "photoUrl": "https://lh3.googleusercontent.com/a-/AOh14GiJe95yMHxNYuiSqXp1RFQ7Cqxra0MCOP3Ds2DRkDE=s64",
      "userId": "09360983468843724957"
     },
     "user_tz": -60
    },
    "id": "XzT8T2J807Se"
   },
   "outputs": [],
   "source": [
    "save_data('../{0}/buffer_actions_{1}.sav'.format(folder, environment.lower()), replay_buffer)"
   ]
  }
 ],
 "metadata": {
  "colab": {
   "authorship_tag": "ABX9TyNcZah5jTdDhBUx+IzuHL+R",
   "name": "DQfD - load buffer.ipynb",
   "provenance": []
  },
  "kernelspec": {
   "display_name": "Python 3",
   "language": "python",
   "name": "python3"
  },
  "language_info": {
   "codemirror_mode": {
    "name": "ipython",
    "version": 3
   },
   "file_extension": ".py",
   "mimetype": "text/x-python",
   "name": "python",
   "nbconvert_exporter": "python",
   "pygments_lexer": "ipython3",
   "version": "3.6.8"
  }
 },
 "nbformat": 4,
 "nbformat_minor": 1
}
