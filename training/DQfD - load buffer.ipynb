{
 "cells": [
  {
   "cell_type": "markdown",
   "metadata": {
    "colab": {
     "base_uri": "https://localhost:8080/",
     "height": 1000
    },
    "colab_type": "code",
    "executionInfo": {
     "elapsed": 34537,
     "status": "ok",
     "timestamp": 1600516448370,
     "user": {
      "displayName": "Danielle Potts",
      "photoUrl": "https://lh3.googleusercontent.com/a-/AOh14GiJe95yMHxNYuiSqXp1RFQ7Cqxra0MCOP3Ds2DRkDE=s64",
      "userId": "09360983468843724957"
     },
     "user_tz": -60
    },
    "id": "pLY-oUwpJlX6",
    "outputId": "d1bc9f8c-c408-4513-a5cc-2320782d6174"
   },
   "source": [
    "# Populate Replay Buffer"
   ]
  },
  {
   "cell_type": "code",
   "execution_count": null,
   "metadata": {},
   "outputs": [],
   "source": [
    "# !pip install minerl anyrl"
   ]
  },
  {
   "cell_type": "code",
   "execution_count": null,
   "metadata": {
    "colab": {
     "base_uri": "https://localhost:8080/",
     "height": 34
    },
    "colab_type": "code",
    "executionInfo": {
     "elapsed": 40557,
     "status": "ok",
     "timestamp": 1600517216747,
     "user": {
      "displayName": "Danielle Potts",
      "photoUrl": "https://lh3.googleusercontent.com/a-/AOh14GiJe95yMHxNYuiSqXp1RFQ7Cqxra0MCOP3Ds2DRkDE=s64",
      "userId": "09360983468843724957"
     },
     "user_tz": -60
    },
    "id": "It4Qf_ZYBKsp",
    "outputId": "2b08d904-5c3d-43b4-f077-7f5f57887fb6"
   },
   "outputs": [],
   "source": [
    "# from google.colab import drive\n",
    "# drive.mount('/content/drive')"
   ]
  },
  {
   "cell_type": "code",
   "execution_count": null,
   "metadata": {
    "colab": {},
    "colab_type": "code",
    "executionInfo": {
     "elapsed": 797,
     "status": "ok",
     "timestamp": 1600521435614,
     "user": {
      "displayName": "Danielle Potts",
      "photoUrl": "https://lh3.googleusercontent.com/a-/AOh14GiJe95yMHxNYuiSqXp1RFQ7Cqxra0MCOP3Ds2DRkDE=s64",
      "userId": "09360983468843724957"
     },
     "user_tz": -60
    },
    "id": "ef3G1yFfKEK3"
   },
   "outputs": [],
   "source": [
    "import json\n",
    "import gym\n",
    "\n",
    "from collections import deque\n",
    "\n",
    "import numpy as np\n",
    "\n",
    "from anyrl.rollouts import replay\n",
    "\n",
    "import pickle"
   ]
  },
  {
   "cell_type": "code",
   "execution_count": null,
   "metadata": {},
   "outputs": [],
   "source": [
    "import sys\n",
    "sys.path.append(\"../functions\")\n",
    "\n",
    "from Utils import save_data, load_data\n",
    "from Buffer import populate_buffer, add_transition\n",
    "from DataHelper import parse_load_data"
   ]
  },
  {
   "cell_type": "code",
   "execution_count": null,
   "metadata": {
    "colab": {},
    "colab_type": "code",
    "executionInfo": {
     "elapsed": 1127,
     "status": "ok",
     "timestamp": 1600521438960,
     "user": {
      "displayName": "Danielle Potts",
      "photoUrl": "https://lh3.googleusercontent.com/a-/AOh14GiJe95yMHxNYuiSqXp1RFQ7Cqxra0MCOP3Ds2DRkDE=s64",
      "userId": "09360983468843724957"
     },
     "user_tz": -60
    },
    "id": "5hrDFhtCfjqt"
   },
   "outputs": [],
   "source": [
    "replay_buffer = replay.PrioritizedReplayBuffer(500000, alpha=0.4, beta=0.6, epsilon=0.001)"
   ]
  },
  {
   "cell_type": "code",
   "execution_count": null,
   "metadata": {},
   "outputs": [],
   "source": [
    "environment = 'Treechop'\n",
    "folder = 'new-resources'"
   ]
  },
  {
   "cell_type": "code",
   "execution_count": null,
   "metadata": {},
   "outputs": [],
   "source": [
    "# file_path = \"/content/drive/My Drive/minerl-resources/datasets/parsed_data_treechop.sav\"\n",
    "# combos_path = \"/content/drive/My Drive/minerl-resources/combos.sav\"\n",
    "# unique_places_path = \"/content/drive/My Drive/minerl-resources/unique_placements.sav\"\n",
    "# unique_actions_path = \"/content/drive/My Drive/minerl-resources/unique_actions_treechop.sav\"\n",
    "\n",
    "file_path = \"../{0}/parsed_data.sav\".format(folder)\n",
    "combos_path = \"../{0}/action_combos_{1}.sav\".format(folder, environment.lower())\n",
    "unique_places_path = \"../{0}/unique_placements.sav\".format(folder)\n",
    "unique_actions_path = \"../{0}/unique_actions_{1}.sav\".format(folder, environment.lower())"
   ]
  },
  {
   "cell_type": "code",
   "execution_count": null,
   "metadata": {
    "colab": {},
    "colab_type": "code",
    "executionInfo": {
     "elapsed": 2473,
     "status": "ok",
     "timestamp": 1600517356832,
     "user": {
      "displayName": "Danielle Potts",
      "photoUrl": "https://lh3.googleusercontent.com/a-/AOh14GiJe95yMHxNYuiSqXp1RFQ7Cqxra0MCOP3Ds2DRkDE=s64",
      "userId": "09360983468843724957"
     },
     "user_tz": -60
    },
    "id": "6zKaA5hilWw6"
   },
   "outputs": [],
   "source": [
    "combos = load_data(combos_path)\n",
    "unique_actions = load_data(unique_actions_path)\n",
    "unique_places = load_data(unique_places_path)\n",
    "parsed_data = load_data(file_path)"
   ]
  },
  {
   "cell_type": "code",
   "execution_count": null,
   "metadata": {
    "colab": {
     "base_uri": "https://localhost:8080/",
     "height": 1000
    },
    "colab_type": "code",
    "executionInfo": {
     "elapsed": 1562,
     "status": "ok",
     "timestamp": 1600521474633,
     "user": {
      "displayName": "Danielle Potts",
      "photoUrl": "https://lh3.googleusercontent.com/a-/AOh14GiJe95yMHxNYuiSqXp1RFQ7Cqxra0MCOP3Ds2DRkDE=s64",
      "userId": "09360983468843724957"
     },
     "user_tz": -60
    },
    "id": "m3omjF9CBJoe",
    "outputId": "cf6ddfe4-f155-4148-ad43-70e529b53556"
   },
   "outputs": [],
   "source": [
    "replay_buffer = populate_buffer(parsed_data, replay_buffer, combos, environment)"
   ]
  },
  {
   "cell_type": "code",
   "execution_count": null,
   "metadata": {
    "colab": {},
    "colab_type": "code",
    "executionInfo": {
     "elapsed": 797,
     "status": "ok",
     "timestamp": 1600521504030,
     "user": {
      "displayName": "Danielle Potts",
      "photoUrl": "https://lh3.googleusercontent.com/a-/AOh14GiJe95yMHxNYuiSqXp1RFQ7Cqxra0MCOP3Ds2DRkDE=s64",
      "userId": "09360983468843724957"
     },
     "user_tz": -60
    },
    "id": "XzT8T2J807Se"
   },
   "outputs": [],
   "source": [
    "save_data('../{0}/buffer_actions_{1}.sav'.format(folder, environment.lower()), replay_buffer)"
   ]
  }
 ],
 "metadata": {
  "colab": {
   "authorship_tag": "ABX9TyNcZah5jTdDhBUx+IzuHL+R",
   "name": "DQfD - load buffer.ipynb",
   "provenance": []
  },
  "kernelspec": {
   "display_name": "Python 3",
   "language": "python",
   "name": "python3"
  },
  "language_info": {
   "codemirror_mode": {
    "name": "ipython",
    "version": 3
   },
   "file_extension": ".py",
   "mimetype": "text/x-python",
   "name": "python",
   "nbconvert_exporter": "python",
   "pygments_lexer": "ipython3",
   "version": "3.6.8"
  }
 },
 "nbformat": 4,
 "nbformat_minor": 1
}
