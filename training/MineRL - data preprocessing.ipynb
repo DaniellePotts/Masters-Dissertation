{
 "cells": [
  {
   "cell_type": "code",
   "execution_count": null,
   "metadata": {
    "colab": {
     "base_uri": "https://localhost:8080/",
     "height": 1000
    },
    "colab_type": "code",
    "executionInfo": {
     "elapsed": 36692,
     "status": "ok",
     "timestamp": 1600516452260,
     "user": {
      "displayName": "Danielle Potts",
      "photoUrl": "https://lh3.googleusercontent.com/a-/AOh14GiJe95yMHxNYuiSqXp1RFQ7Cqxra0MCOP3Ds2DRkDE=s64",
      "userId": "09360983468843724957"
     },
     "user_tz": -60
    },
    "id": "i0qoSxq6XiH5",
    "outputId": "a27f4441-8be5-478a-fa8b-ad1c4df37e95"
   },
   "outputs": [],
   "source": [
    "# !pip install minerl"
   ]
  },
  {
   "cell_type": "code",
   "execution_count": null,
   "metadata": {
    "colab": {},
    "colab_type": "code",
    "id": "2H0ljY6CslOf"
   },
   "outputs": [],
   "source": [
    "# from google.colab import drive\n",
    "import minerl\n",
    "import gym\n",
    "import cv2\n",
    "import numpy as np\n",
    "\n",
    "import collections\n",
    "import matplotlib.pyplot as plt\n",
    "import pickle\n",
    "import json\n",
    "\n",
    "import numpy as np\n",
    "\n",
    "import pickle\n",
    "\n",
    "#can either set the download path this way or via the OS system variables\n",
    "# import os\n",
    "# os.environ['MINERL_DATA_ROOT']=\"C:\\\\Users\\\\danie\\\\Documents\\\\Uni\\\\Masters-Dissertation\\\\data\""
   ]
  },
  {
   "cell_type": "code",
   "execution_count": null,
   "metadata": {},
   "outputs": [],
   "source": [
    "import sys\n",
    "sys.path.append(\"./functions\")\n",
    "\n",
    "from DataHelper import extract_data, parse_minerl_data, get_unique_actions,get_unique_place_actions\n",
    "from Utils import save_data, load_data\n",
    "from ActionCombos import get_unique_angles, get_all_action_combos"
   ]
  },
  {
   "cell_type": "code",
   "execution_count": null,
   "metadata": {
    "colab": {
     "base_uri": "https://localhost:8080/",
     "height": 34
    },
    "colab_type": "code",
    "executionInfo": {
     "elapsed": 28856,
     "status": "ok",
     "timestamp": 1600203770632,
     "user": {
      "displayName": "Danielle Potts",
      "photoUrl": "https://lh3.googleusercontent.com/a-/AOh14GiJe95yMHxNYuiSqXp1RFQ7Cqxra0MCOP3Ds2DRkDE=s64",
      "userId": "09360983468843724957"
     },
     "user_tz": -60
    },
    "id": "ym6pBcYDk1Rn",
    "outputId": "f992bfbf-82dc-489b-d8d9-7bcbf015268e"
   },
   "outputs": [],
   "source": [
    "# from google.colab import drive\n",
    "# drive.mount('/content/drive')"
   ]
  },
  {
   "cell_type": "code",
   "execution_count": null,
   "metadata": {},
   "outputs": [],
   "source": [
    "environment = \"Treechop\"\n",
    "resources_folder = 'training-resources'"
   ]
  },
  {
   "cell_type": "code",
   "execution_count": null,
   "metadata": {
    "colab": {
     "base_uri": "https://localhost:8080/",
     "height": 139
    },
    "colab_type": "code",
    "executionInfo": {
     "elapsed": 2212,
     "status": "ok",
     "timestamp": 1600203486660,
     "user": {
      "displayName": "Danielle Potts",
      "photoUrl": "https://lh3.googleusercontent.com/a-/AOh14GiJe95yMHxNYuiSqXp1RFQ7Cqxra0MCOP3Ds2DRkDE=s64",
      "userId": "09360983468843724957"
     },
     "user_tz": -60
    },
    "id": "vHfs7X0EtXpK",
    "outputId": "530f06ad-2f9a-492a-daf0-79f7ab3578e8"
   },
   "outputs": [],
   "source": [
    "#downloads data from MineRL API\n",
    "!python -m minerl.data.download \"MineRLTreechop-v0\""
   ]
  },
  {
   "cell_type": "code",
   "execution_count": null,
   "metadata": {
    "colab": {},
    "colab_type": "code",
    "id": "boZTpl1zvDlb"
   },
   "outputs": [],
   "source": [
    "#extracts data from the MineRL API\n",
    "data = extract_data('MineRL{0}-v0'.format(environment))"
   ]
  },
  {
   "cell_type": "code",
   "execution_count": null,
   "metadata": {
    "colab": {},
    "colab_type": "code",
    "id": "0Y4s-Lzmo_18"
   },
   "outputs": [],
   "source": [
    "#cleans up the data and puts it in a JSON format\n",
    "parsed = parse_minerl_data(data)"
   ]
  },
  {
   "cell_type": "code",
   "execution_count": null,
   "metadata": {},
   "outputs": [],
   "source": [
    "#get all unique actions from dataset\n",
    "unique_actions = get_unique_actions(data[0]['action'])"
   ]
  },
  {
   "cell_type": "code",
   "execution_count": null,
   "metadata": {},
   "outputs": [],
   "source": [
    "#get all unique camera angles from dataset\n",
    "unique_angles = get_unique_angles(parsed_sequences)"
   ]
  },
  {
   "cell_type": "code",
   "execution_count": null,
   "metadata": {},
   "outputs": [],
   "source": [
    "#only valid for navigate\n",
    "unique_placements = get_unique_place_actions(parsed_sequences)\n",
    "save_data(\"../{0}/unique_placements_{0}.sav\".format(resources_folder,environment.lower()),unique_placements)"
   ]
  },
  {
   "cell_type": "code",
   "execution_count": null,
   "metadata": {},
   "outputs": [],
   "source": [
    "#get all unique action combos from datatset. pass in unique_placements if the environment\n",
    "#data has placements\n",
    "combos = get_all_action_combos(unique_actions,unique_angles)"
   ]
  },
  {
   "cell_type": "code",
   "execution_count": null,
   "metadata": {
    "colab": {},
    "colab_type": "code",
    "id": "P8yY805Mkon5"
   },
   "outputs": [],
   "source": [
    "#save all data\n",
    "save_data(\"../{0}/parsed_data_{1}.sav\".format(resources_folder, environment.lower()), parsed_sequences)\n",
    "save_data(\"../{0}/unique_actions_{1}.sav\".format(resources_folder,environment.lower()),unique_actions_dataset)\n",
    "save_data(\"../{0}/unique_angles_{0}.sav\".format(resources_folder,environment.lower()),unique_angles)\n",
    "save_data(\"../{0}/action_combos_{1}.sav\".format(resources_folder, environment.lower()), combos)"
   ]
  }
 ],
 "metadata": {
  "colab": {
   "authorship_tag": "ABX9TyMpu3Gn1KuzEbj17He/x3mW",
   "name": "MineRL - data preprocessing.ipynb",
   "provenance": []
  },
  "kernelspec": {
   "display_name": "Python 3",
   "language": "python",
   "name": "python3"
  },
  "language_info": {
   "codemirror_mode": {
    "name": "ipython",
    "version": 3
   },
   "file_extension": ".py",
   "mimetype": "text/x-python",
   "name": "python",
   "nbconvert_exporter": "python",
   "pygments_lexer": "ipython3",
   "version": "3.6.8"
  }
 },
 "nbformat": 4,
 "nbformat_minor": 1
}
