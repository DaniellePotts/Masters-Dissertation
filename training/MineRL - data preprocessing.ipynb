{
 "cells": [
  {
   "cell_type": "code",
   "execution_count": null,
   "metadata": {
    "colab": {
     "base_uri": "https://localhost:8080/",
     "height": 1000
    },
    "colab_type": "code",
    "executionInfo": {
     "elapsed": 36692,
     "status": "ok",
     "timestamp": 1600516452260,
     "user": {
      "displayName": "Danielle Potts",
      "photoUrl": "https://lh3.googleusercontent.com/a-/AOh14GiJe95yMHxNYuiSqXp1RFQ7Cqxra0MCOP3Ds2DRkDE=s64",
      "userId": "09360983468843724957"
     },
     "user_tz": -60
    },
    "id": "i0qoSxq6XiH5",
    "outputId": "a27f4441-8be5-478a-fa8b-ad1c4df37e95"
   },
   "outputs": [],
   "source": [
    "# !pip install minerl"
   ]
  },
  {
   "cell_type": "code",
   "execution_count": 1,
   "metadata": {
    "colab": {},
    "colab_type": "code",
    "id": "2H0ljY6CslOf"
   },
   "outputs": [
    {
     "name": "stderr",
     "output_type": "stream",
     "text": [
      "c:\\users\\danie\\appdata\\local\\programs\\python\\python36\\lib\\site-packages\\gym\\logger.py:30: UserWarning: \u001b[33mWARN: Box bound precision lowered by casting to float32\u001b[0m\n",
      "  warnings.warn(colorize('%s: %s'%('WARN', msg % args), 'yellow'))\n"
     ]
    }
   ],
   "source": [
    "# from google.colab import drive\n",
    "import minerl\n",
    "import gym\n",
    "import cv2\n",
    "import numpy as np\n",
    "\n",
    "import collections\n",
    "import matplotlib.pyplot as plt\n",
    "import pickle\n",
    "import json\n",
    "\n",
    "import numpy as np\n",
    "\n",
    "import pickle\n",
    "\n",
    "import os\n",
    "os.environ['MINERL_DATA_ROOT']=\"C:\\\\Users\\\\danie\\\\Documents\\\\Uni\\\\Masters-Dissertation\\\\data\""
   ]
  },
  {
   "cell_type": "code",
   "execution_count": 2,
   "metadata": {},
   "outputs": [],
   "source": [
    "import sys\n",
    "sys.path.append(\"./functions\")\n",
    "\n",
    "from DataHelper import parse_demo, parse_sequences, get_unique_actions,get_unique_place_actions\n",
    "from Utils import save_data, load_data\n",
    "from ActionCombos import get_unique_angles, get_all_action_combos"
   ]
  },
  {
   "cell_type": "code",
   "execution_count": null,
   "metadata": {
    "colab": {
     "base_uri": "https://localhost:8080/",
     "height": 34
    },
    "colab_type": "code",
    "executionInfo": {
     "elapsed": 28856,
     "status": "ok",
     "timestamp": 1600203770632,
     "user": {
      "displayName": "Danielle Potts",
      "photoUrl": "https://lh3.googleusercontent.com/a-/AOh14GiJe95yMHxNYuiSqXp1RFQ7Cqxra0MCOP3Ds2DRkDE=s64",
      "userId": "09360983468843724957"
     },
     "user_tz": -60
    },
    "id": "ym6pBcYDk1Rn",
    "outputId": "f992bfbf-82dc-489b-d8d9-7bcbf015268e"
   },
   "outputs": [],
   "source": [
    "# from google.colab import drive\n",
    "# drive.mount('/content/drive')"
   ]
  },
  {
   "cell_type": "code",
   "execution_count": 3,
   "metadata": {},
   "outputs": [],
   "source": [
    "environment = \"Treechop\"\n",
    "resources_folder = 'new-resources'"
   ]
  },
  {
   "cell_type": "code",
   "execution_count": 6,
   "metadata": {
    "colab": {
     "base_uri": "https://localhost:8080/",
     "height": 139
    },
    "colab_type": "code",
    "executionInfo": {
     "elapsed": 2212,
     "status": "ok",
     "timestamp": 1600203486660,
     "user": {
      "displayName": "Danielle Potts",
      "photoUrl": "https://lh3.googleusercontent.com/a-/AOh14GiJe95yMHxNYuiSqXp1RFQ7Cqxra0MCOP3Ds2DRkDE=s64",
      "userId": "09360983468843724957"
     },
     "user_tz": -60
    },
    "id": "vHfs7X0EtXpK",
    "outputId": "530f06ad-2f9a-492a-daf0-79f7ab3578e8"
   },
   "outputs": [
    {
     "name": "stderr",
     "output_type": "stream",
     "text": [
      "C:\\Users\\danie\\AppData\\Local\\Programs\\Python\\Python37\\lib\\site-packages\\gym\\logger.py:30: UserWarning: \u001b[33mWARN: Box bound precision lowered by casting to float32\u001b[0m\n",
      "  warnings.warn(colorize('%s: %s'%('WARN', msg % args), 'yellow'))\n",
      "C:\\Users\\danie\\AppData\\Local\\Programs\\Python\\Python37\\lib\\runpy.py:125: RuntimeWarning: 'minerl.data.download' found in sys.modules after import of package 'minerl.data', but prior to execution of 'minerl.data.download'; this may result in unpredictable behaviour\n",
      "  warn(RuntimeWarning(msg))\n",
      "2020-11-28 19:51:00 LAPTOP-J1KMG6CE __main__[7684] INFO Downloading experiment MineRLTreechop-v0 to C:\\Users\\danie\\Documents\\Uni\\Masters-Dissertation\\data\n",
      "2020-11-28 19:51:00 LAPTOP-J1KMG6CE __main__[7684] WARNING C:\\Users\\danie\\Documents\\Uni\\Masters-Dissertation\\data\\MineRLTreechop-v0 exists - skipping re-download!\n"
     ]
    }
   ],
   "source": [
    "!python -m minerl.data.download \"MineRLTreechop-v0\""
   ]
  },
  {
   "cell_type": "code",
   "execution_count": 4,
   "metadata": {
    "colab": {},
    "colab_type": "code",
    "id": "boZTpl1zvDlb"
   },
   "outputs": [
    {
     "name": "stderr",
     "output_type": "stream",
     "text": [
      "100%|██████████████████████████████████████████████████████████████████████████████| 209/209 [00:00<00:00, 9512.96it/s]\n"
     ]
    }
   ],
   "source": [
    "data = parse_demo('MineRL{0}-v0'.format(environment))"
   ]
  },
  {
   "cell_type": "code",
   "execution_count": 5,
   "metadata": {
    "colab": {},
    "colab_type": "code",
    "id": "0Y4s-Lzmo_18"
   },
   "outputs": [],
   "source": [
    "parsed_sequences = parse_sequences(data)"
   ]
  },
  {
   "cell_type": "code",
   "execution_count": 6,
   "metadata": {},
   "outputs": [],
   "source": [
    "unique_actions = get_unique_actions(data[0]['action'])"
   ]
  },
  {
   "cell_type": "code",
   "execution_count": 7,
   "metadata": {},
   "outputs": [],
   "source": [
    "unique_angles = get_unique_angles(parsed_sequences)"
   ]
  },
  {
   "cell_type": "code",
   "execution_count": null,
   "metadata": {},
   "outputs": [],
   "source": [
    "#only valid for navigate\n",
    "unique_placements = get_unique_place_actions(parsed_sequences)\n",
    "save_data(\"../{0}/unique_placements_{0}.sav\".format(resources_folder,environment.lower()),unique_placements)"
   ]
  },
  {
   "cell_type": "code",
   "execution_count": 8,
   "metadata": {},
   "outputs": [],
   "source": [
    "combos = get_all_action_combos(unique_actions,unique_angles)"
   ]
  },
  {
   "cell_type": "code",
   "execution_count": null,
   "metadata": {
    "colab": {},
    "colab_type": "code",
    "id": "P8yY805Mkon5"
   },
   "outputs": [],
   "source": [
    "save_data(\"../{0}/parsed_data.sav\".format(resources_folder), parsed_sequences)\n",
    "save_data(\"../{0}/unique_actions_{0}.sav\".format(resources_folder,environment.lower()),unique_actions_dataset)\n",
    "save_data(\"../{0}/unique_angles_{0}.sav\".format(resources_folder,environment.lower()),unique_angles)"
   ]
  },
  {
   "cell_type": "code",
   "execution_count": null,
   "metadata": {},
   "outputs": [],
   "source": [
    "save_data(\"../{0}/action_combos_{1}.sav\".format(resources_folder, environment.lower()), parsed_sequences)"
   ]
  }
 ],
 "metadata": {
  "colab": {
   "authorship_tag": "ABX9TyMpu3Gn1KuzEbj17He/x3mW",
   "name": "MineRL - data preprocessing.ipynb",
   "provenance": []
  },
  "kernelspec": {
   "display_name": "Python 3",
   "language": "python",
   "name": "python3"
  },
  "language_info": {
   "codemirror_mode": {
    "name": "ipython",
    "version": 3
   },
   "file_extension": ".py",
   "mimetype": "text/x-python",
   "name": "python",
   "nbconvert_exporter": "python",
   "pygments_lexer": "ipython3",
   "version": "3.6.8"
  }
 },
 "nbformat": 4,
 "nbformat_minor": 1
}
