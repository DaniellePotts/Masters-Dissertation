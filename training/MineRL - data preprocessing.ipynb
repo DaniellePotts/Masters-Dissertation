{
 "cells": [
  {
   "cell_type": "code",
   "execution_count": 1,
   "metadata": {
    "colab": {
     "base_uri": "https://localhost:8080/",
     "height": 1000
    },
    "colab_type": "code",
    "executionInfo": {
     "elapsed": 36692,
     "status": "ok",
     "timestamp": 1600516452260,
     "user": {
      "displayName": "Danielle Potts",
      "photoUrl": "https://lh3.googleusercontent.com/a-/AOh14GiJe95yMHxNYuiSqXp1RFQ7Cqxra0MCOP3Ds2DRkDE=s64",
      "userId": "09360983468843724957"
     },
     "user_tz": -60
    },
    "id": "i0qoSxq6XiH5",
    "outputId": "a27f4441-8be5-478a-fa8b-ad1c4df37e95"
   },
   "outputs": [
    {
     "name": "stdout",
     "output_type": "stream",
     "text": [
      "Collecting minerl\n",
      "\u001b[?25l  Downloading https://files.pythonhosted.org/packages/ca/a2/3fab937b6019a19470bd2864cf20ce9f9a3a5d54fb7894a4b96cd54db039/minerl-0.3.6.tar.gz (36.3MB)\n",
      "\u001b[K     |████████████████████████████████| 36.3MB 1.2MB/s \n",
      "\u001b[?25hRequirement already satisfied: gym>=0.13.1 in /usr/local/lib/python3.6/dist-packages (from minerl) (0.17.2)\n",
      "Requirement already satisfied: opencv-python>=4.1.0.25 in /usr/local/lib/python3.6/dist-packages (from minerl) (4.1.2.30)\n",
      "Requirement already satisfied: setuptools>=40.6.2 in /usr/local/lib/python3.6/dist-packages (from minerl) (50.3.0)\n",
      "Requirement already satisfied: tqdm>=4.32.2 in /usr/local/lib/python3.6/dist-packages (from minerl) (4.41.1)\n",
      "Requirement already satisfied: numpy>=1.16.2 in /usr/local/lib/python3.6/dist-packages (from minerl) (1.18.5)\n",
      "Requirement already satisfied: requests>=2.20.0 in /usr/local/lib/python3.6/dist-packages (from minerl) (2.23.0)\n",
      "Collecting ipython>=7.5.0\n",
      "\u001b[?25l  Downloading https://files.pythonhosted.org/packages/23/6a/210816c943c9aeeb29e4e18a298f14bf0e118fe222a23e13bfcc2d41b0a4/ipython-7.16.1-py3-none-any.whl (785kB)\n",
      "\u001b[K     |████████████████████████████████| 788kB 42.5MB/s \n",
      "\u001b[?25hCollecting typing>=3.6.6\n",
      "\u001b[?25l  Downloading https://files.pythonhosted.org/packages/05/d9/6eebe19d46bd05360c9a9aae822e67a80f9242aabbfc58b641b957546607/typing-3.7.4.3.tar.gz (78kB)\n",
      "\u001b[K     |████████████████████████████████| 81kB 9.4MB/s \n",
      "\u001b[?25hCollecting lxml>=4.3.3\n",
      "\u001b[?25l  Downloading https://files.pythonhosted.org/packages/79/37/d420b7fdc9a550bd29b8cfeacff3b38502d9600b09d7dfae9a69e623b891/lxml-4.5.2-cp36-cp36m-manylinux1_x86_64.whl (5.5MB)\n",
      "\u001b[K     |████████████████████████████████| 5.5MB 45.7MB/s \n",
      "\u001b[?25hCollecting psutil>=5.6.2\n",
      "\u001b[?25l  Downloading https://files.pythonhosted.org/packages/aa/3e/d18f2c04cf2b528e18515999b0c8e698c136db78f62df34eee89cee205f1/psutil-5.7.2.tar.gz (460kB)\n",
      "\u001b[K     |████████████████████████████████| 460kB 42.6MB/s \n",
      "\u001b[?25hCollecting Pyro4>=4.76\n",
      "\u001b[?25l  Downloading https://files.pythonhosted.org/packages/c3/3c/422f6f761076c5679215178a00eca9a68aacfbbc88152c85b15928b60e25/Pyro4-4.80-py2.py3-none-any.whl (89kB)\n",
      "\u001b[K     |████████████████████████████████| 92kB 9.6MB/s \n",
      "\u001b[?25hCollecting coloredlogs>=10.0\n",
      "\u001b[?25l  Downloading https://files.pythonhosted.org/packages/5c/2f/12747be360d6dea432e7b5dfae3419132cb008535cfe614af73b9ce2643b/coloredlogs-14.0-py2.py3-none-any.whl (43kB)\n",
      "\u001b[K     |████████████████████████████████| 51kB 7.2MB/s \n",
      "\u001b[?25hCollecting matplotlib==3.0.3\n",
      "\u001b[?25l  Downloading https://files.pythonhosted.org/packages/e9/69/f5e05f578585ed9935247be3788b374f90701296a70c8871bcd6d21edb00/matplotlib-3.0.3-cp36-cp36m-manylinux1_x86_64.whl (13.0MB)\n",
      "\u001b[K     |████████████████████████████████| 13.0MB 193kB/s \n",
      "\u001b[?25hRequirement already satisfied: dill>=0.3.1.1 in /usr/local/lib/python3.6/dist-packages (from minerl) (0.3.2)\n",
      "Collecting getch>=1.0\n",
      "  Downloading https://files.pythonhosted.org/packages/cc/a4/c696c05e0ff9d05b1886cb0210101083db7d330ff964a6d7cd98ad2b2064/getch-1.0.tar.gz\n",
      "Requirement already satisfied: cloudpickle<1.4.0,>=1.2.0 in /usr/local/lib/python3.6/dist-packages (from gym>=0.13.1->minerl) (1.3.0)\n",
      "Requirement already satisfied: pyglet<=1.5.0,>=1.4.0 in /usr/local/lib/python3.6/dist-packages (from gym>=0.13.1->minerl) (1.5.0)\n",
      "Requirement already satisfied: scipy in /usr/local/lib/python3.6/dist-packages (from gym>=0.13.1->minerl) (1.4.1)\n",
      "Requirement already satisfied: chardet<4,>=3.0.2 in /usr/local/lib/python3.6/dist-packages (from requests>=2.20.0->minerl) (3.0.4)\n",
      "Requirement already satisfied: certifi>=2017.4.17 in /usr/local/lib/python3.6/dist-packages (from requests>=2.20.0->minerl) (2020.6.20)\n",
      "Requirement already satisfied: idna<3,>=2.5 in /usr/local/lib/python3.6/dist-packages (from requests>=2.20.0->minerl) (2.10)\n",
      "Requirement already satisfied: urllib3!=1.25.0,!=1.25.1,<1.26,>=1.21.1 in /usr/local/lib/python3.6/dist-packages (from requests>=2.20.0->minerl) (1.24.3)\n",
      "Requirement already satisfied: decorator in /usr/local/lib/python3.6/dist-packages (from ipython>=7.5.0->minerl) (4.4.2)\n",
      "Requirement already satisfied: pygments in /usr/local/lib/python3.6/dist-packages (from ipython>=7.5.0->minerl) (2.6.1)\n",
      "Requirement already satisfied: backcall in /usr/local/lib/python3.6/dist-packages (from ipython>=7.5.0->minerl) (0.2.0)\n",
      "Requirement already satisfied: pickleshare in /usr/local/lib/python3.6/dist-packages (from ipython>=7.5.0->minerl) (0.7.5)\n",
      "Collecting prompt-toolkit!=3.0.0,!=3.0.1,<3.1.0,>=2.0.0\n",
      "\u001b[?25l  Downloading https://files.pythonhosted.org/packages/2b/c1/53ac685833200eb77ef485c2220dac5bfc255418e660790a9eb5cf3abf25/prompt_toolkit-3.0.7-py3-none-any.whl (355kB)\n",
      "\u001b[K     |████████████████████████████████| 358kB 39.6MB/s \n",
      "\u001b[?25hRequirement already satisfied: pexpect; sys_platform != \"win32\" in /usr/local/lib/python3.6/dist-packages (from ipython>=7.5.0->minerl) (4.8.0)\n",
      "Requirement already satisfied: traitlets>=4.2 in /usr/local/lib/python3.6/dist-packages (from ipython>=7.5.0->minerl) (4.3.3)\n",
      "Requirement already satisfied: jedi>=0.10 in /usr/local/lib/python3.6/dist-packages (from ipython>=7.5.0->minerl) (0.17.2)\n",
      "Collecting serpent>=1.27; python_version >= \"3.2\"\n",
      "  Downloading https://files.pythonhosted.org/packages/b4/a1/24871492bfc34ea18aee3bf38e0cee22d8c11d8d5e765ccc921103140747/serpent-1.30.2-py3-none-any.whl\n",
      "Collecting humanfriendly>=7.1\n",
      "\u001b[?25l  Downloading https://files.pythonhosted.org/packages/8e/2d/2f1b0a780b8c948c06c74c8c80e68ac354da52397ba432a1c5ac1923c3af/humanfriendly-8.2-py2.py3-none-any.whl (86kB)\n",
      "\u001b[K     |████████████████████████████████| 92kB 9.9MB/s \n",
      "\u001b[?25hRequirement already satisfied: cycler>=0.10 in /usr/local/lib/python3.6/dist-packages (from matplotlib==3.0.3->minerl) (0.10.0)\n",
      "Requirement already satisfied: kiwisolver>=1.0.1 in /usr/local/lib/python3.6/dist-packages (from matplotlib==3.0.3->minerl) (1.2.0)\n",
      "Requirement already satisfied: python-dateutil>=2.1 in /usr/local/lib/python3.6/dist-packages (from matplotlib==3.0.3->minerl) (2.8.1)\n",
      "Requirement already satisfied: pyparsing!=2.0.4,!=2.1.2,!=2.1.6,>=2.0.1 in /usr/local/lib/python3.6/dist-packages (from matplotlib==3.0.3->minerl) (2.4.7)\n",
      "Requirement already satisfied: future in /usr/local/lib/python3.6/dist-packages (from pyglet<=1.5.0,>=1.4.0->gym>=0.13.1->minerl) (0.16.0)\n",
      "Requirement already satisfied: wcwidth in /usr/local/lib/python3.6/dist-packages (from prompt-toolkit!=3.0.0,!=3.0.1,<3.1.0,>=2.0.0->ipython>=7.5.0->minerl) (0.2.5)\n",
      "Requirement already satisfied: ptyprocess>=0.5 in /usr/local/lib/python3.6/dist-packages (from pexpect; sys_platform != \"win32\"->ipython>=7.5.0->minerl) (0.6.0)\n",
      "Requirement already satisfied: ipython-genutils in /usr/local/lib/python3.6/dist-packages (from traitlets>=4.2->ipython>=7.5.0->minerl) (0.2.0)\n",
      "Requirement already satisfied: six in /usr/local/lib/python3.6/dist-packages (from traitlets>=4.2->ipython>=7.5.0->minerl) (1.15.0)\n",
      "Requirement already satisfied: parso<0.8.0,>=0.7.0 in /usr/local/lib/python3.6/dist-packages (from jedi>=0.10->ipython>=7.5.0->minerl) (0.7.1)\n",
      "Building wheels for collected packages: minerl, typing, psutil, getch\n",
      "  Building wheel for minerl (setup.py) ... \u001b[?25l\u001b[?25hdone\n",
      "  Created wheel for minerl: filename=minerl-0.3.6-cp36-none-any.whl size=72040787 sha256=0afcadc0e3fd4cf92c0316a4105d16c7ba7012862efee9380f10b6b62d6e2d3b\n",
      "  Stored in directory: /root/.cache/pip/wheels/8e/dc/c9/a7f3c17ccc05df396620a9e6921936d3bd35df1f25466c9fd7\n",
      "  Building wheel for typing (setup.py) ... \u001b[?25l\u001b[?25hdone\n",
      "  Created wheel for typing: filename=typing-3.7.4.3-cp36-none-any.whl size=26307 sha256=e275a054428c4a1453399caf6097268732b8a9e3a420ec6cec0df53fc2dbb3a0\n",
      "  Stored in directory: /root/.cache/pip/wheels/2d/04/41/8e1836e79581989c22eebac3f4e70aaac9af07b0908da173be\n",
      "  Building wheel for psutil (setup.py) ... \u001b[?25l\u001b[?25hdone\n",
      "  Created wheel for psutil: filename=psutil-5.7.2-cp36-cp36m-linux_x86_64.whl size=279878 sha256=efea1555b1ee4a4292e64a5674f8de7b68a687da2e67e44d7df1df54166c346f\n",
      "  Stored in directory: /root/.cache/pip/wheels/39/a0/f5/c4fa280463e29aea07797acb5312358fefb067c1f4f98e11b1\n",
      "  Building wheel for getch (setup.py) ... \u001b[?25l\u001b[?25hdone\n",
      "  Created wheel for getch: filename=getch-1.0-cp36-cp36m-linux_x86_64.whl size=14220 sha256=e2b714688cee359815110e55bf2d91774d2660d15646734b85dd0f844bfd1003\n",
      "  Stored in directory: /root/.cache/pip/wheels/82/9d/22/6d295c77d3b78954fe41dd47464e605e8b82802071005169c5\n",
      "Successfully built minerl typing psutil getch\n",
      "\u001b[31mERROR: plotnine 0.6.0 has requirement matplotlib>=3.1.1, but you'll have matplotlib 3.0.3 which is incompatible.\u001b[0m\n",
      "\u001b[31mERROR: mizani 0.6.0 has requirement matplotlib>=3.1.1, but you'll have matplotlib 3.0.3 which is incompatible.\u001b[0m\n",
      "\u001b[31mERROR: jupyter-console 5.2.0 has requirement prompt-toolkit<2.0.0,>=1.0.0, but you'll have prompt-toolkit 3.0.7 which is incompatible.\u001b[0m\n",
      "\u001b[31mERROR: google-colab 1.0.0 has requirement ipython~=5.5.0, but you'll have ipython 7.16.1 which is incompatible.\u001b[0m\n",
      "\u001b[31mERROR: albumentations 0.1.12 has requirement imgaug<0.2.7,>=0.2.5, but you'll have imgaug 0.2.9 which is incompatible.\u001b[0m\n",
      "Installing collected packages: prompt-toolkit, ipython, typing, lxml, psutil, serpent, Pyro4, humanfriendly, coloredlogs, matplotlib, getch, minerl\n",
      "  Found existing installation: prompt-toolkit 1.0.18\n",
      "    Uninstalling prompt-toolkit-1.0.18:\n",
      "      Successfully uninstalled prompt-toolkit-1.0.18\n",
      "  Found existing installation: ipython 5.5.0\n",
      "    Uninstalling ipython-5.5.0:\n",
      "      Successfully uninstalled ipython-5.5.0\n",
      "  Found existing installation: lxml 4.2.6\n",
      "    Uninstalling lxml-4.2.6:\n",
      "      Successfully uninstalled lxml-4.2.6\n",
      "  Found existing installation: psutil 5.4.8\n",
      "    Uninstalling psutil-5.4.8:\n",
      "      Successfully uninstalled psutil-5.4.8\n",
      "  Found existing installation: matplotlib 3.2.2\n",
      "    Uninstalling matplotlib-3.2.2:\n",
      "      Successfully uninstalled matplotlib-3.2.2\n",
      "Successfully installed Pyro4-4.80 coloredlogs-14.0 getch-1.0 humanfriendly-8.2 ipython-7.16.1 lxml-4.5.2 matplotlib-3.0.3 minerl-0.3.6 prompt-toolkit-3.0.7 psutil-5.7.2 serpent-1.30.2 typing-3.7.4.3\n"
     ]
    },
    {
     "data": {
      "application/vnd.colab-display-data+json": {
       "pip_warning": {
        "packages": [
         "IPython",
         "matplotlib",
         "mpl_toolkits",
         "prompt_toolkit",
         "typing"
        ]
       }
      }
     },
     "metadata": {
      "tags": []
     },
     "output_type": "display_data"
    }
   ],
   "source": [
    "!pip install minerl"
   ]
  },
  {
   "cell_type": "code",
   "execution_count": 1,
   "metadata": {
    "colab": {},
    "colab_type": "code",
    "id": "2H0ljY6CslOf"
   },
   "outputs": [
    {
     "ename": "ModuleNotFoundError",
     "evalue": "No module named 'google.colab'",
     "output_type": "error",
     "traceback": [
      "\u001b[1;31m---------------------------------------------------------------------------\u001b[0m",
      "\u001b[1;31mModuleNotFoundError\u001b[0m                       Traceback (most recent call last)",
      "\u001b[1;32m<ipython-input-1-224654fc6f06>\u001b[0m in \u001b[0;36m<module>\u001b[1;34m\u001b[0m\n\u001b[1;32m----> 1\u001b[1;33m \u001b[1;32mfrom\u001b[0m \u001b[0mgoogle\u001b[0m\u001b[1;33m.\u001b[0m\u001b[0mcolab\u001b[0m \u001b[1;32mimport\u001b[0m \u001b[0mdrive\u001b[0m\u001b[1;33m\u001b[0m\u001b[1;33m\u001b[0m\u001b[0m\n\u001b[0m\u001b[0;32m      2\u001b[0m \u001b[1;32mimport\u001b[0m \u001b[0mminerl\u001b[0m\u001b[1;33m\u001b[0m\u001b[1;33m\u001b[0m\u001b[0m\n\u001b[0;32m      3\u001b[0m \u001b[1;32mimport\u001b[0m \u001b[0mgym\u001b[0m\u001b[1;33m\u001b[0m\u001b[1;33m\u001b[0m\u001b[0m\n\u001b[0;32m      4\u001b[0m \u001b[1;33m\u001b[0m\u001b[0m\n\u001b[0;32m      5\u001b[0m \u001b[1;32mimport\u001b[0m \u001b[0mnumpy\u001b[0m \u001b[1;32mas\u001b[0m \u001b[0mnp\u001b[0m\u001b[1;33m\u001b[0m\u001b[1;33m\u001b[0m\u001b[0m\n",
      "\u001b[1;31mModuleNotFoundError\u001b[0m: No module named 'google.colab'"
     ]
    }
   ],
   "source": [
    "from google.colab import drive\n",
    "import minerl\n",
    "import gym\n",
    "\n",
    "import numpy as np\n",
    "\n",
    "import collections\n",
    "\n",
    "import pickle\n",
    "import json\n",
    "\n",
    "import os\n",
    "os.environ['MINERL_DATA_ROOT']='./content/data'"
   ]
  },
  {
   "cell_type": "code",
   "execution_count": null,
   "metadata": {
    "colab": {
     "base_uri": "https://localhost:8080/",
     "height": 34
    },
    "colab_type": "code",
    "executionInfo": {
     "elapsed": 28856,
     "status": "ok",
     "timestamp": 1600203770632,
     "user": {
      "displayName": "Danielle Potts",
      "photoUrl": "https://lh3.googleusercontent.com/a-/AOh14GiJe95yMHxNYuiSqXp1RFQ7Cqxra0MCOP3Ds2DRkDE=s64",
      "userId": "09360983468843724957"
     },
     "user_tz": -60
    },
    "id": "ym6pBcYDk1Rn",
    "outputId": "f992bfbf-82dc-489b-d8d9-7bcbf015268e"
   },
   "outputs": [
    {
     "name": "stdout",
     "output_type": "stream",
     "text": [
      "Mounted at /content/drive\n"
     ]
    }
   ],
   "source": [
    "from google.colab import drive\n",
    "drive.mount('/content/drive')"
   ]
  },
  {
   "cell_type": "code",
   "execution_count": null,
   "metadata": {
    "colab": {
     "base_uri": "https://localhost:8080/",
     "height": 139
    },
    "colab_type": "code",
    "executionInfo": {
     "elapsed": 2212,
     "status": "ok",
     "timestamp": 1600203486660,
     "user": {
      "displayName": "Danielle Potts",
      "photoUrl": "https://lh3.googleusercontent.com/a-/AOh14GiJe95yMHxNYuiSqXp1RFQ7Cqxra0MCOP3Ds2DRkDE=s64",
      "userId": "09360983468843724957"
     },
     "user_tz": -60
    },
    "id": "vHfs7X0EtXpK",
    "outputId": "530f06ad-2f9a-492a-daf0-79f7ab3578e8"
   },
   "outputs": [
    {
     "name": "stdout",
     "output_type": "stream",
     "text": [
      "/usr/local/lib/python3.6/dist-packages/gym/logger.py:30: UserWarning: \u001b[33mWARN: Box bound precision lowered by casting to float32\u001b[0m\n",
      "  warnings.warn(colorize('%s: %s'%('WARN', msg % args), 'yellow'))\n",
      "/usr/lib/python3.6/runpy.py:125: RuntimeWarning: 'minerl.data.download' found in sys.modules after import of package 'minerl.data', but prior to execution of 'minerl.data.download'; this may result in unpredictable behaviour\n",
      "  warn(RuntimeWarning(msg))\n",
      "\u001b[32m2020-09-15 20:58:05\u001b[0m \u001b[35m5d2ed16532b1\u001b[0m \u001b[34m__main__[355]\u001b[0m \u001b[1;30mINFO\u001b[0m Downloading experiment MineRLNavigate-v0 to ./content/data\n",
      "\u001b[32m2020-09-15 20:58:05\u001b[0m \u001b[35m5d2ed16532b1\u001b[0m \u001b[34m__main__[355]\u001b[0m \u001b[1;30mWARNING\u001b[0m \u001b[33m./content/data/MineRLNavigate-v0 exists - skipping re-download!\u001b[0m\n"
     ]
    }
   ],
   "source": [
    "!python -m minerl.data.download \"MineRLNavigate-v0\""
   ]
  },
  {
   "cell_type": "code",
   "execution_count": null,
   "metadata": {
    "colab": {},
    "colab_type": "code",
    "id": "boZTpl1zvDlb"
   },
   "outputs": [],
   "source": [
    "data = minerl.data.make('MineRLNavigate-v0')"
   ]
  },
  {
   "cell_type": "code",
   "execution_count": null,
   "metadata": {
    "colab": {},
    "colab_type": "code",
    "id": "wuAz5Ik2ysKR"
   },
   "outputs": [],
   "source": [
    "def create_default_actions():\n",
    "  sample_actions = collections.OrderedDict()\n",
    "\n",
    "  sample_actions['attack'] = 0\n",
    "  sample_actions['back'] = 0\n",
    "  sample_actions['camera'] = [0.,0.]\n",
    "  sample_actions['forward'] = 0\n",
    "  sample_actions['jump'] = 0\n",
    "  sample_actions['left'] = 0\n",
    "  sample_actions['place'] = 'none'\n",
    "  sample_actions['right'] = 0\n",
    "  sample_actions['sneak'] = 0\n",
    "  sample_actions['sprint'] = 0\n",
    "\n",
    "  return sample_actions"
   ]
  },
  {
   "cell_type": "code",
   "execution_count": null,
   "metadata": {
    "colab": {},
    "colab_type": "code",
    "id": "QoyvFcNM__uI"
   },
   "outputs": [],
   "source": [
    "def actions_to_dict(actions):\n",
    "  actions_dict = collections.OrderedDict()\n",
    "\n",
    "  actions_dict['attack'] = actions['attack']\n",
    "  actions_dict['back'] = actions['back']\n",
    "  actions_dict['camera'] = actions['camera']\n",
    "  actions_dict['forward'] = actions['forward']\n",
    "  actions_dict['jump'] = actions['jump']\n",
    "  actions_dict['left'] = actions['left']\n",
    "  actions_dict['place'] = actions['place']\n",
    "  actions_dict['right'] = actions['right']\n",
    "  actions_dict['sneak'] = actions['sneak']\n",
    "  actions_dict['sprint'] = actions['sprint']\n",
    "\n",
    "  return actions_dict"
   ]
  },
  {
   "cell_type": "code",
   "execution_count": null,
   "metadata": {
    "colab": {},
    "colab_type": "code",
    "id": "2JZIjEWuysXu"
   },
   "outputs": [],
   "source": [
    "def parse_demo(env, rep_buffer, data_path, nsteps=0):\n",
    "  data = minerl.data.make(env)\n",
    "  sequences = []\n",
    "  i = 0\n",
    "\n",
    "  for current_state, action, reward, next_state, done \\\n",
    "      in data.batch_iter(\n",
    "          batch_size=1, num_epochs=1, seq_len=32):\n",
    "          sequences.append({\n",
    "              'curr_state':{'pov':current_state['pov'][0], 'compassAngle':current_state['compassAngle'][0], 'inventory':current_state['inventory']},\n",
    "              'next_state':{'pov':next_state['pov'][0], 'compassAngle':next_state['compassAngle'][0], 'inventory':next_state['inventory']},\n",
    "              'action':action,\n",
    "              'reward':reward,\n",
    "              'done':done,\n",
    "              'sequence':i\n",
    "            })\n",
    "          i = i + 1\n",
    "  return sequences"
   ]
  },
  {
   "cell_type": "markdown",
   "metadata": {
    "colab_type": "text",
    "id": "BYay1tHZwqTf"
   },
   "source": []
  },
  {
   "cell_type": "code",
   "execution_count": null,
   "metadata": {
    "colab": {
     "base_uri": "https://localhost:8080/",
     "height": 34
    },
    "colab_type": "code",
    "executionInfo": {
     "elapsed": 84009,
     "status": "ok",
     "timestamp": 1600203642409,
     "user": {
      "displayName": "Danielle Potts",
      "photoUrl": "https://lh3.googleusercontent.com/a-/AOh14GiJe95yMHxNYuiSqXp1RFQ7Cqxra0MCOP3Ds2DRkDE=s64",
      "userId": "09360983468843724957"
     },
     "user_tz": -60
    },
    "id": "eNBfBazFYAWW",
    "outputId": "c92bd4d0-b58d-41f6-8eef-97fabe4404ed"
   },
   "outputs": [
    {
     "name": "stderr",
     "output_type": "stream",
     "text": [
      "100%|██████████| 193/193 [00:00<00:00, 6384.53it/s]\n"
     ]
    }
   ],
   "source": [
    "sequences = parse_demo('MineRLNavigate-v0',[],0)"
   ]
  },
  {
   "cell_type": "code",
   "execution_count": null,
   "metadata": {
    "colab": {
     "base_uri": "https://localhost:8080/",
     "height": 34
    },
    "colab_type": "code",
    "executionInfo": {
     "elapsed": 1022,
     "status": "ok",
     "timestamp": 1600203659251,
     "user": {
      "displayName": "Danielle Potts",
      "photoUrl": "https://lh3.googleusercontent.com/a-/AOh14GiJe95yMHxNYuiSqXp1RFQ7Cqxra0MCOP3Ds2DRkDE=s64",
      "userId": "09360983468843724957"
     },
     "user_tz": -60
    },
    "id": "bMakt9oaBydx",
    "outputId": "1fa74d22-c47f-4482-d4e2-800417eba36b"
   },
   "outputs": [
    {
     "data": {
      "text/plain": [
       "7530"
      ]
     },
     "execution_count": 14,
     "metadata": {
      "tags": []
     },
     "output_type": "execute_result"
    }
   ],
   "source": [
    "len(sequences)"
   ]
  },
  {
   "cell_type": "code",
   "execution_count": null,
   "metadata": {
    "colab": {},
    "colab_type": "code",
    "id": "HXw5nRuqHcj5"
   },
   "outputs": [],
   "source": [
    "def parse_sequences(sequences):\n",
    "  sequences_copy = sequences\n",
    "  reward_length = len(sequences[0]['reward'][0])\n",
    "  done_length = len(sequences[0]['done'][0])\n",
    "  action_length = len(sequences[0]['action']['camera'][0])\n",
    "  sequences_length = len(sequences)\n",
    "  sequences_2 = []\n",
    "  \n",
    "\n",
    "  for i in range(0, 100):\n",
    "    actions = get_actions(sequences_copy[i]['action'], action_length)\n",
    "    rewards = get_rewards(sequences_copy[i]['reward'], reward_length)\n",
    "    dones = get_dones(sequences_copy[i]['done'], done_length)\n",
    "    sequences_copy[i]['curr_state']['pov'] = sequences_copy[i]['curr_state']['pov']\n",
    "    sequences_copy[i]['curr_state']['compassAngle'] = sequences_copy[i]['curr_state']['compassAngle']\n",
    "    sequences_copy[i]['curr_state']['inventory'][\"dirt\"] = sequences_copy[i]['curr_state']['inventory'][\"dirt\"][0]\n",
    "   \n",
    "    sequences_copy[i]['next_state']['pov'] = sequences_copy[i]['next_state']['pov']\n",
    "    sequences_copy[i]['next_state']['compassAngle'] = sequences_copy[i]['next_state']['compassAngle']\n",
    "    sequences_copy[i]['next_state']['inventory'][\"dirt\"] = sequences_copy[i]['next_state']['inventory'][\"dirt\"][0]\n",
    "\n",
    "    sequences_2.append({\n",
    "        'sequence':i,\n",
    "        'actions':actions,\n",
    "        'rewards':rewards['rewards'],\n",
    "        'dones':dones,\n",
    "        'curr_states':sequences_copy[i]['curr_state'],\n",
    "        'next_states':sequences_copy[i]['next_state'],\n",
    "        'total_reward':rewards['total_reward']\n",
    "    })\n",
    "  \n",
    "  return sequences_2"
   ]
  },
  {
   "cell_type": "markdown",
   "metadata": {
    "colab_type": "text",
    "id": "Wtqo8irkl5nx"
   },
   "source": []
  },
  {
   "cell_type": "code",
   "execution_count": null,
   "metadata": {
    "colab": {},
    "colab_type": "code",
    "id": "8yw7GLjGb8yn"
   },
   "outputs": [],
   "source": [
    "def get_actions(actions, action_length):\n",
    "  keys = list(actions.keys())\n",
    "  all_actions = []\n",
    "\n",
    "  for i in range(0, action_length):\n",
    "    a = collections.OrderedDict()\n",
    "\n",
    "    for key in keys:\n",
    "      vals = 0\n",
    "      if isinstance(actions[key][0][i], (np.ndarray)):\n",
    "        vals = actions[key][0][i].tolist()\n",
    "      else:\n",
    "        if isinstance(actions[key][0][i],(np.int64)):\n",
    "          vals = int(actions[key][0][i])\n",
    "      \n",
    "      a[key] = vals\n",
    "\n",
    "    all_actions.append(a)\n",
    "\n",
    "  return all_actions"
   ]
  },
  {
   "cell_type": "code",
   "execution_count": null,
   "metadata": {
    "colab": {},
    "colab_type": "code",
    "id": "EU7Rb__JbXlM"
   },
   "outputs": [],
   "source": [
    "def get_rewards(rewards, rewards_length):\n",
    "  all_rewards = {\n",
    "      'rewards':[],\n",
    "      'total_reward':0\n",
    "  }\n",
    "\n",
    "  for i in range(0, rewards_length):\n",
    "    all_rewards['rewards'].append(float(rewards[0][i]))\n",
    "    all_rewards['total_reward'] = all_rewards['total_reward'] + rewards[0][i]\n",
    "  \n",
    "  return all_rewards"
   ]
  },
  {
   "cell_type": "code",
   "execution_count": null,
   "metadata": {
    "colab": {},
    "colab_type": "code",
    "id": "fqBHsm3AcIEg"
   },
   "outputs": [],
   "source": [
    "def get_dones(dones, dones_length):\n",
    "  all_done = []\n",
    "\n",
    "  for i in range(0, dones_length):\n",
    "    all_done.append(str(dones[0][i]))\n",
    "\n",
    "  return all_done"
   ]
  },
  {
   "cell_type": "code",
   "execution_count": null,
   "metadata": {
    "colab": {
     "base_uri": "https://localhost:8080/",
     "height": 34
    },
    "colab_type": "code",
    "executionInfo": {
     "elapsed": 806,
     "status": "ok",
     "timestamp": 1600203674974,
     "user": {
      "displayName": "Danielle Potts",
      "photoUrl": "https://lh3.googleusercontent.com/a-/AOh14GiJe95yMHxNYuiSqXp1RFQ7Cqxra0MCOP3Ds2DRkDE=s64",
      "userId": "09360983468843724957"
     },
     "user_tz": -60
    },
    "id": "SHsoDaZ0lNJZ",
    "outputId": "5da604d5-3e1e-424c-ab58-026dca8713f2"
   },
   "outputs": [
    {
     "data": {
      "text/plain": [
       "list"
      ]
     },
     "execution_count": 18,
     "metadata": {
      "tags": []
     },
     "output_type": "execute_result"
    }
   ],
   "source": [
    "type(sequences[0]['curr_state']['inventory'][\"dirt\"][0].tolist())"
   ]
  },
  {
   "cell_type": "code",
   "execution_count": null,
   "metadata": {
    "colab": {},
    "colab_type": "code",
    "id": "0Y4s-Lzmo_18"
   },
   "outputs": [],
   "source": [
    "s = parse_sequences(sequences)"
   ]
  },
  {
   "cell_type": "code",
   "execution_count": null,
   "metadata": {
    "colab": {},
    "colab_type": "code",
    "id": "P8yY805Mkon5"
   },
   "outputs": [],
   "source": [
    "import pickle"
   ]
  },
  {
   "cell_type": "code",
   "execution_count": null,
   "metadata": {
    "colab": {},
    "colab_type": "code",
    "id": "pYUwVJqDknri"
   },
   "outputs": [],
   "source": [
    "filename = 'parsed_data.sav'\n",
    "pickle.dump(s, open(\"/content/drive/My Drive/minerl-resources/datasets/\"+filename, 'wb'))"
   ]
  },
  {
   "cell_type": "code",
   "execution_count": null,
   "metadata": {
    "colab": {
     "base_uri": "https://localhost:8080/",
     "height": 34
    },
    "colab_type": "code",
    "executionInfo": {
     "elapsed": 109680,
     "status": "ok",
     "timestamp": 1599926954939,
     "user": {
      "displayName": "Danielle Potts",
      "photoUrl": "https://lh3.googleusercontent.com/a-/AOh14GiJe95yMHxNYuiSqXp1RFQ7Cqxra0MCOP3Ds2DRkDE=s64",
      "userId": "09360983468843724957"
     },
     "user_tz": -60
    },
    "id": "g1e88bKNRbOP",
    "outputId": "ce73de41-0550-4a9d-ef53-92224405d45f"
   },
   "outputs": [
    {
     "name": "stdout",
     "output_type": "stream",
     "text": [
      "done\n"
     ]
    }
   ],
   "source": [
    "with open('dqfd_data.json', 'w') as f:\n",
    "    json.dump(s, f)\n",
    "\n",
    "print('done')"
   ]
  },
  {
   "cell_type": "code",
   "execution_count": null,
   "metadata": {
    "colab": {},
    "colab_type": "code",
    "id": "1su6uBpxiQdi"
   },
   "outputs": [],
   "source": []
  }
 ],
 "metadata": {
  "colab": {
   "authorship_tag": "ABX9TyMpu3Gn1KuzEbj17He/x3mW",
   "name": "MineRL - data preprocessing.ipynb",
   "provenance": []
  },
  "kernelspec": {
   "display_name": "Python 3",
   "language": "python",
   "name": "python3"
  },
  "language_info": {
   "codemirror_mode": {
    "name": "ipython",
    "version": 3
   },
   "file_extension": ".py",
   "mimetype": "text/x-python",
   "name": "python",
   "nbconvert_exporter": "python",
   "pygments_lexer": "ipython3",
   "version": "3.6.8"
  }
 },
 "nbformat": 4,
 "nbformat_minor": 1
}
