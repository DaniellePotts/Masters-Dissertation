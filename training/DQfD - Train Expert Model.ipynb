{
 "cells": [
  {
   "cell_type": "markdown",
   "metadata": {
    "colab": {
     "base_uri": "https://localhost:8080/",
     "height": 1000
    },
    "colab_type": "code",
    "id": "6h56JhEV3eXb",
    "outputId": "3b7b728e-c88d-4af7-9f57-04fa73f06d96"
   },
   "source": [
    "# Train Expert Model\n",
    "\n",
    "Script used for training expert Neural Network model"
   ]
  },
  {
   "cell_type": "code",
   "execution_count": null,
   "metadata": {},
   "outputs": [],
   "source": [
    "!pip install minerl anyrl #only needed when running in google colab"
   ]
  },
  {
   "cell_type": "code",
   "execution_count": 1,
   "metadata": {
    "colab": {
     "base_uri": "https://localhost:8080/",
     "height": 34
    },
    "colab_type": "code",
    "id": "p8BMgUUZ33Cb",
    "outputId": "5cef89b1-2ff6-4892-aa72-a099fdc58285"
   },
   "outputs": [],
   "source": [
    "#from google.colab import drive\n",
    "import json\n",
    "import gym\n",
    "import pickle\n",
    "from collections import deque\n",
    "\n",
    "import numpy as np\n",
    "import time\n",
    "from anyrl.rollouts import replay\n",
    "import tensorflow as tf\n",
    "\n",
    "#drive.mount('/content/drive')"
   ]
  },
  {
   "cell_type": "code",
   "execution_count": 2,
   "metadata": {
    "colab": {},
    "colab_type": "code",
    "id": "c_QY_K5H4bz4"
   },
   "outputs": [],
   "source": [
    "from keras.models import Model\n",
    "from keras.layers import Dense, Dropout, Flatten, Input, Lambda, Conv2D\n",
    "from keras.optimizers import SGD, Adam\n",
    "from keras import initializers\n",
    "from keras import regularizers\n",
    "import keras.backend as K\n",
    "\n",
    "import numpy as np"
   ]
  },
  {
   "cell_type": "code",
   "execution_count": 3,
   "metadata": {},
   "outputs": [],
   "source": [
    "from tensorflow.python.client import device_lib "
   ]
  },
  {
   "cell_type": "code",
   "execution_count": 4,
   "metadata": {
    "scrolled": true
   },
   "outputs": [
    {
     "name": "stderr",
     "output_type": "stream",
     "text": [
      "c:\\users\\danie\\appdata\\local\\programs\\python\\python36\\lib\\site-packages\\gym\\logger.py:30: UserWarning: \u001b[33mWARN: Box bound precision lowered by casting to float32\u001b[0m\n",
      "  warnings.warn(colorize('%s: %s'%('WARN', msg % args), 'yellow'))\n"
     ]
    }
   ],
   "source": [
    "import sys\n",
    "sys.path.append(\"./functions\")\n",
    "\n",
    "from Utils import save_data, load_data\n",
    "from DQfDModel import build_model, inner_train_function, train_expert_network\n",
    "from ActionCombos import load_combos"
   ]
  },
  {
   "cell_type": "code",
   "execution_count": 5,
   "metadata": {},
   "outputs": [],
   "source": [
    "environment = 'Navigate'\n",
    "resources_folder = 'new-resources'"
   ]
  },
  {
   "cell_type": "code",
   "execution_count": 6,
   "metadata": {},
   "outputs": [],
   "source": [
    "combos_file = '../{0}/action_combos_{1}.sav'.format(resources_folder, environment.lower())\n",
    "replay_file_path = \"../{0}/buffer_actions_{1}.sav\".format(resources_folder, environment.lower())"
   ]
  },
  {
   "cell_type": "code",
   "execution_count": 7,
   "metadata": {},
   "outputs": [],
   "source": [
    "n_action = len(load_combos(combos_file))\n",
    "replay_buffer = load_data(replay_file_path)"
   ]
  },
  {
   "cell_type": "code",
   "execution_count": 8,
   "metadata": {
    "colab": {},
    "colab_type": "code",
    "id": "tHMJkW3A9SMf"
   },
   "outputs": [],
   "source": [
    "temp_model = build_model(n_action)\n",
    "tgt_model = build_model(n_action)"
   ]
  },
  {
   "cell_type": "code",
   "execution_count": null,
   "metadata": {},
   "outputs": [
    {
     "name": "stdout",
     "output_type": "stream",
     "text": [
      "0/750000\n",
      "1/750000\n",
      "2/750000\n"
     ]
    }
   ],
   "source": [
    "tgt_model, expert_buffer = train_expert_network(environment, temp_model, tgt_model, replay_buffer, n_action,\n",
    "                                                         batch_size=32,\n",
    "                                                             train_steps=750000)"
   ]
  },
  {
   "cell_type": "code",
   "execution_count": null,
   "metadata": {},
   "outputs": [],
   "source": [
    "buffer_file_path = '../{0}/buffer_{1}_post_train.sav'.format(resources_folder, environment.lower())\n",
    "\n",
    "save_data(buffer_file_path, expert_buffer)"
   ]
  },
  {
   "cell_type": "code",
   "execution_count": null,
   "metadata": {},
   "outputs": [],
   "source": []
  }
 ],
 "metadata": {
  "colab": {
   "collapsed_sections": [],
   "name": "DQfD - Model.ipynb",
   "provenance": []
  },
  "kernelspec": {
   "display_name": "Python 3",
   "language": "python",
   "name": "python3"
  },
  "language_info": {
   "codemirror_mode": {
    "name": "ipython",
    "version": 3
   },
   "file_extension": ".py",
   "mimetype": "text/x-python",
   "name": "python",
   "nbconvert_exporter": "python",
   "pygments_lexer": "ipython3",
   "version": "3.6.8"
  }
 },
 "nbformat": 4,
 "nbformat_minor": 1
}
